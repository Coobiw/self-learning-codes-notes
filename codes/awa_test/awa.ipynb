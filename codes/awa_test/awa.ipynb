{
 "cells": [
  {
   "cell_type": "code",
   "execution_count": 1,
   "metadata": {},
   "outputs": [
    {
     "name": "stderr",
     "output_type": "stream",
     "text": [
      "/home/qbw/anaconda3/envs/qbw_base/lib/python3.8/site-packages/tqdm/auto.py:22: TqdmWarning: IProgress not found. Please update jupyter and ipywidgets. See https://ipywidgets.readthedocs.io/en/stable/user_install.html\n",
      "  from .autonotebook import tqdm as notebook_tqdm\n"
     ]
    }
   ],
   "source": [
    "import numpy as np\n",
    "import os\n",
    "import scipy\n",
    "from sklearn.metrics import classification_report,confusion_matrix\n",
    "import torch\n",
    "import torch.nn as nn\n",
    "import torch.optim as optim\n",
    "from torch.utils.data import DataLoader,Dataset\n",
    "from tqdm import tqdm\n",
    "import sys\n",
    "import matplotlib.pyplot as plt"
   ]
  },
  {
   "cell_type": "code",
   "execution_count": 2,
   "metadata": {},
   "outputs": [
    {
     "data": {
      "text/plain": [
       "(37322, 2048)"
      ]
     },
     "execution_count": 2,
     "metadata": {},
     "output_type": "execute_result"
    }
   ],
   "source": [
    "feature_path = '/public/DATA/qbw/dataset/zero_shot/awa2/Animals_with_Attributes2/Features/ResNet101'\n",
    "\n",
    "feature = np.loadtxt(os.path.join(feature_path,'AwA2-features.txt'),dtype=np.float32)\n",
    "\n",
    "feature.shape"
   ]
  },
  {
   "cell_type": "code",
   "execution_count": 3,
   "metadata": {},
   "outputs": [],
   "source": [
    "parent_path = '/public/DATA/qbw/dataset/zero_shot/awa2/Animals_with_Attributes2'\n",
    "train_classes,test_classes = [],[]\n",
    "with open(os.path.join(parent_path,'trainclasses.txt'),'r') as f:\n",
    "    for line in f:\n",
    "        line = line.strip()\n",
    "        train_classes.append(line)\n",
    "\n",
    "with open(os.path.join(parent_path,'testclasses.txt'),'r') as f:\n",
    "    for line in f:\n",
    "        line = line.strip()\n",
    "        test_classes.append(line)"
   ]
  },
  {
   "cell_type": "code",
   "execution_count": 4,
   "metadata": {},
   "outputs": [],
   "source": [
    "id2cls,cls2id = {},{}\n",
    "classes = []\n",
    "with open(os.path.join(parent_path,'classes.txt'),'r') as f:\n",
    "    for line in f:\n",
    "        id,cls = line.strip().split('\\t')\n",
    "        id = int(id)\n",
    "        cls2id[cls] = id\n",
    "        id2cls[id] = cls\n",
    "        classes.append(cls)"
   ]
  },
  {
   "cell_type": "code",
   "execution_count": 5,
   "metadata": {},
   "outputs": [
    {
     "data": {
      "text/plain": [
       "((30337, 2048), (30337, 85), 6985)"
      ]
     },
     "execution_count": 5,
     "metadata": {},
     "output_type": "execute_result"
    }
   ],
   "source": [
    "labels = np.loadtxt(os.path.join(feature_path,'AwA2-labels.txt'),dtype=int)\n",
    "binary_predicates = np.loadtxt(os.path.join(parent_path,'predicate-matrix-binary.txt'),dtype=int)\n",
    "\n",
    "train_feat,test_feat = [],[]\n",
    "train_predicate,test_predicate = [],[]\n",
    "train_gt,test_gt = [],[]\n",
    "for i,feat in enumerate(feature):\n",
    "    if id2cls[labels[i]] in train_classes:\n",
    "        train_feat.append(feat)\n",
    "        train_predicate.append(binary_predicates[labels[i]-1])\n",
    "        train_gt.append(labels[i])\n",
    "    else:\n",
    "        test_feat.append(feat)\n",
    "        test_predicate.append(binary_predicates[labels[i]-1])\n",
    "        test_gt.append(labels[i])\n",
    "train_feat = np.array(train_feat)\n",
    "test_feat = np.array(test_feat)\n",
    "train_predicate = np.array(train_predicate)\n",
    "test_predicate = np.array(test_predicate)\n",
    "\n",
    "train_feat.shape,train_predicate.shape,len(test_gt)\n"
   ]
  },
  {
   "cell_type": "code",
   "execution_count": 6,
   "metadata": {},
   "outputs": [],
   "source": [
    "class AwA2_Dataset(Dataset):\n",
    "    def __init__(self,feat,predicate,gt):\n",
    "        super(AwA2_Dataset,self).__init__()\n",
    "        self.feat = feat\n",
    "        self.predicate = predicate\n",
    "        self.gt = gt\n",
    "    \n",
    "    def __len__(self):\n",
    "        return self.feat.shape[0]\n",
    "    \n",
    "    def __getitem__(self,index):\n",
    "        feat = self.feat[index]\n",
    "        predicate = self.predicate[index]\n",
    "        gt = self.gt[index]\n",
    "        return torch.from_numpy(feat),torch.from_numpy(predicate),torch.tensor(gt,dtype=int)\n",
    "\n",
    "class linear(nn.Module):\n",
    "    def __init__(self,feat_dim,predicate_dim):\n",
    "        super(linear,self).__init__()\n",
    "        self.W = nn.Linear(feat_dim,predicate_dim)\n",
    "        self.sigmoid = nn.Sigmoid()\n",
    "    \n",
    "    def forward(self,feat):\n",
    "        return self.sigmoid(self.W(feat))"
   ]
  },
  {
   "cell_type": "code",
   "execution_count": 7,
   "metadata": {},
   "outputs": [],
   "source": [
    "trainset = AwA2_Dataset(train_feat,train_predicate,train_gt)\n",
    "testset = AwA2_Dataset(test_feat,test_predicate,test_gt)\n",
    "\n",
    "def train(epochs,bs,lr,device,feat_dim,predicate_dim):\n",
    "    train_loader = DataLoader(trainset,batch_size=bs,shuffle=True,num_workers=16)\n",
    "    # test_loader = DataLoader(testset,shuffle=False,num_workers=16)\n",
    "\n",
    "    model = linear(feat_dim,predicate_dim).to(device)\n",
    "    criterion = nn.BCELoss()\n",
    "    optimizer = optim.Adam([{'params':[param for name,param in model.named_parameters() \n",
    "        if 'bias' in name],'weight_decay':0.},{'params':[param for name,param in model.named_parameters() \n",
    "        if 'weight' in name]}],lr=lr)\n",
    "    model.train()\n",
    "    tloss = []\n",
    "    for epoch in tqdm(range(epochs)):\n",
    "        train_loss = 0.\n",
    "        for feat,predicate,_ in train_loader:\n",
    "            feat,predicate = feat.to(device),predicate.to(device)\n",
    "            predicate = predicate.float()\n",
    "            pred_seg = model(feat)\n",
    "            loss = criterion(pred_seg,predicate)\n",
    "\n",
    "            optimizer.zero_grad()\n",
    "            loss.backward()\n",
    "            optimizer.step()\n",
    "            train_loss += loss.item()\n",
    "        tloss.append(train_loss/len(train_loader))\n",
    "    \n",
    "    plt.figure()\n",
    "    plt.plot(tloss)\n",
    "    \n",
    "    return model\n",
    "\n",
    "    \n",
    "    "
   ]
  },
  {
   "cell_type": "code",
   "execution_count": 8,
   "metadata": {},
   "outputs": [
    {
     "name": "stderr",
     "output_type": "stream",
     "text": [
      "100%|██████████| 100/100 [02:30<00:00,  1.51s/it]\n"
     ]
    },
    {
     "data": {
      "image/png": "[encoded data removed]",
      "text/plain": [
       "<Figure size 640x480 with 1 Axes>"
      ]
     },
     "metadata": {},
     "output_type": "display_data"
    }
   ],
   "source": [
    "train_hyper_param = {'epochs':100,'bs':len(trainset),'lr':1e-2,'device':\n",
    "    torch.device('cuda') if torch.cuda.is_available() else torch.device('cpu'),\n",
    "    'feat_dim':train_feat.shape[1],'predicate_dim':train_predicate.shape[1]}\n",
    "\n",
    "model = train(**train_hyper_param)"
   ]
  },
  {
   "cell_type": "code",
   "execution_count": 14,
   "metadata": {},
   "outputs": [
    {
     "name": "stdout",
     "output_type": "stream",
     "text": [
      "60.60128847530423\n"
     ]
    }
   ],
   "source": [
    "def get_euclidean_dist(curr_labels, class_labels):\n",
    "  return np.sqrt(np.sum((curr_labels - class_labels)**2))\n",
    "\n",
    "def predicates_to_class(pred,binary_predicates,classes,train_classes):\n",
    "    predictions = []\n",
    "    for i in range(pred.shape[0]):\n",
    "        curr_labels = pred[i,:].cpu().detach().numpy()\n",
    "        best_dist = sys.maxsize\n",
    "        best_index = -1\n",
    "        for j in range(binary_predicates.shape[0]):\n",
    "            class_labels = binary_predicates[j,:]\n",
    "            dist = get_euclidean_dist(curr_labels, class_labels)\n",
    "            if dist < best_dist and classes[j] not in train_classes:\n",
    "                best_index = j\n",
    "                best_dist = dist\n",
    "        predictions.append(classes[best_index])\n",
    "    return predictions\n",
    "\n",
    "def test(model,testset,binary_predicates,classes,cls2id,train_classes):\n",
    "    test_loader = DataLoader(testset,batch_size=1,shuffle=False,num_workers=16)\n",
    "    device = torch.device('cuda') if torch.cuda.is_available() else torch.device('cpu')\n",
    "    test_pred = []\n",
    "    gts = []\n",
    "    model.eval()\n",
    "    with torch.no_grad():\n",
    "        for feat,_,gt in test_loader:\n",
    "            feat = feat.to(device)\n",
    "            pred = model(feat)\n",
    "            pred = predicates_to_class(pred,binary_predicates,classes,train_classes)\n",
    "            test_pred.extend(pred)\n",
    "            gts.extend(gt.tolist())\n",
    "    # print(test_pred)\n",
    "    # assert False,print(len(gts),len(test_pred))\n",
    "    acc = 0.\n",
    "    for i in range(len(test_pred)):\n",
    "        # if i < 100:\n",
    "            # print(cls2id[test_pred[i]],test_gt[i],end=' ')\n",
    "        # print('\\n')\n",
    "        if cls2id[test_pred[i]] == gts[i]:\n",
    "            acc += 1\n",
    "    return (acc / len(test_gt)) * 100\n",
    "\n",
    "print(test(model,testset,binary_predicates,classes,cls2id,train_classes))\n",
    "            \n"
   ]
  }
 ],
 "metadata": {
  "kernelspec": {
   "display_name": "Python 3.8.16 ('qbw_base')",
   "language": "python",
   "name": "python3"
  },
  "language_info": {
   "codemirror_mode": {
    "name": "ipython",
    "version": 3
   },
   "file_extension": ".py",
   "mimetype": "text/x-python",
   "name": "python",
   "nbconvert_exporter": "python",
   "pygments_lexer": "ipython3",
   "version": "3.8.16"
  },
  "orig_nbformat": 4,
  "vscode": {
   "interpreter": {
    "hash": "29b5d3c3a195958e56703fed513527f1ceb13efdb4c6a2ac7c2957cbb06ef28a"
   }
  }
 },
 "nbformat": 4,
 "nbformat_minor": 2
}
