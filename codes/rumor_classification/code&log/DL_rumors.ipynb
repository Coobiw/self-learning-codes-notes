{
 "cells": [
  {
   "cell_type": "markdown",
   "metadata": {
    "datalore": {
     "hide_input_from_viewers": false,
     "hide_output_from_viewers": false,
     "type": "MD"
    }
   },
   "source": [
    "# PyTorch实例3：微博谣言检测\n",
    "作者：杨邦\n",
    "\n",
    "邮箱：yangbang@pku.edu.cn\n",
    "\n",
    "日期：2022-09-28"
   ]
  },
  {
   "cell_type": "markdown",
   "metadata": {
    "datalore": {
     "hide_input_from_viewers": false,
     "hide_output_from_viewers": false,
     "type": "MD"
    }
   },
   "source": [
    "## 3.1 导入程序包"
   ]
  },
  {
   "cell_type": "code",
   "execution_count": 1,
   "metadata": {
    "datalore": {
     "hide_input_from_viewers": false,
     "hide_output_from_viewers": false,
     "type": "CODE"
    }
   },
   "outputs": [],
   "source": [
    "# !pip install jieba"
   ]
  },
  {
   "cell_type": "code",
   "execution_count": 2,
   "metadata": {
    "datalore": {
     "hide_input_from_viewers": false,
     "hide_output_from_viewers": false,
     "type": "CODE"
    }
   },
   "outputs": [
    {
     "name": "stderr",
     "output_type": "stream",
     "text": [
      "/home/charon/anaconda3/envs/qbw_base/lib/python3.8/site-packages/tqdm/auto.py:22: TqdmWarning: IProgress not found. Please update jupyter and ipywidgets. See https://ipywidgets.readthedocs.io/en/stable/user_install.html\n",
      "  from .autonotebook import tqdm as notebook_tqdm\n"
     ]
    },
    {
     "data": {
      "text/plain": [
       "<torch._C.Generator at 0x7f60fd82a6b0>"
      ]
     },
     "execution_count": 2,
     "metadata": {},
     "output_type": "execute_result"
    }
   ],
   "source": [
    "import json, os\n",
    "import pickle\n",
    "from tqdm import tqdm\n",
    "\n",
    "#PyTorch用的包\n",
    "import torch\n",
    "import torch.nn as nn\n",
    "import torch.optim\n",
    "import torch.nn.functional as F\n",
    "from torch.utils.data import Dataset\n",
    "from torch.utils.data import DataLoader\n",
    "\n",
    "# 自然语言处理相关的包\n",
    "import re #正则表达式的包\n",
    "import jieba #结巴分词包\n",
    "from collections import Counter #搜集器，可以让统计词频更简单\n",
    "\n",
    "#绘图、计算用的程序包\n",
    "import matplotlib.pyplot as plt\n",
    "import numpy as np\n",
    "%matplotlib inline\n",
    "\n",
    "# 设置随机种子保证可复现\n",
    "import random\n",
    "SEED = 729608\n",
    "random.seed(SEED)\n",
    "np.random.seed(SEED)\n",
    "torch.manual_seed(SEED)\n",
    "# os python hash seed, make experiment reproducable\n",
    "os.environ['PYTHONHASHSEED'] = str(SEED)\n",
    "# gpu algorithom \n",
    "torch.cuda.manual_seed_all(SEED)\n",
    "torch.backends.cudnn.benchmark = False\n",
    "torch.backends.cudnn.deterministic = True\n",
    "# Generator SEED\n",
    "Generator = torch.Generator()\n",
    "Generator.manual_seed(SEED)"
   ]
  },
  {
   "cell_type": "markdown",
   "metadata": {
    "datalore": {
     "hide_input_from_viewers": false,
     "hide_output_from_viewers": false,
     "type": "MD"
    }
   },
   "source": [
    "## 3.2 数据预处理"
   ]
  },
  {
   "cell_type": "markdown",
   "metadata": {
    "datalore": {
     "hide_input_from_viewers": false,
     "hide_output_from_viewers": false,
     "type": "MD"
    }
   },
   "source": [
    "### 3.2.1 数据下载"
   ]
  },
  {
   "cell_type": "code",
   "execution_count": 3,
   "metadata": {
    "datalore": {
     "hide_input_from_viewers": false,
     "hide_output_from_viewers": false,
     "type": "CODE"
    }
   },
   "outputs": [],
   "source": [
    "# !git clone https://github.com/thunlp/Chinese_Rumor_Dataset.git"
   ]
  },
  {
   "cell_type": "code",
   "execution_count": 4,
   "metadata": {
    "datalore": {
     "hide_input_from_viewers": false,
     "hide_output_from_viewers": false,
     "type": "CODE"
    }
   },
   "outputs": [
    {
     "name": "stdout",
     "output_type": "stream",
     "text": [
      "CED_Dataset  README.md\trumors_v170613.json\n",
      "non-rumor-repost  original-microblog  README.md  rumor-repost\n"
     ]
    }
   ],
   "source": [
    "!ls ./Chinese_Rumor_Dataset\n",
    "!ls ./Chinese_Rumor_Dataset/CED_Dataset/"
   ]
  },
  {
   "cell_type": "markdown",
   "metadata": {
    "datalore": {
     "hide_input_from_viewers": false,
     "hide_output_from_viewers": false,
     "type": "MD"
    }
   },
   "source": [
    "### 3.2.2 获取微博文本及其配对标签"
   ]
  },
  {
   "cell_type": "code",
   "execution_count": 5,
   "metadata": {
    "datalore": {
     "hide_input_from_viewers": false,
     "hide_output_from_viewers": false,
     "type": "CODE"
    }
   },
   "outputs": [
    {
     "name": "stdout",
     "output_type": "stream",
     "text": [
      "开始读取数据\n"
     ]
    },
    {
     "name": "stderr",
     "output_type": "stream",
     "text": [
      "100%|██████████| 3389/3389 [00:01<00:00, 2059.92it/s]"
     ]
    },
    {
     "name": "stdout",
     "output_type": "stream",
     "text": [
      "结束, 有1538条谣言, 有1849条非谣言!\n",
      "['＂有时最坚强的人是 - 不因缺陷而不爱，关起门才哭泣，和打没有人知道的仗。＂(Sometimes the strongest people are the one love beyond all faults, cry behind closed doors and fight battles that nobody knows about。)', '想研究外星人么？ 去爱大吧！！ 爱丁堡大学计划今年年底第一次提供寻找外星人的课程。。\"Introduction to Astrobiology and the Search for Extraterrestrial Life\" 将由学校的星际生物学教授Charles Cockell 讲授！']\n",
      "--------------------\n",
      "['【#越南乳瓜#】神奇的越南乳瓜，神似女性的乳房，颜色略呈粉色。乳瓜成熟果实含葡萄糖、果糖、蔗糖、胡萝卜素、维生素C、酒石酸、枸椽酸、苹果酸等。未成熟果实的汁液中含多量的乳瓜蛋白酶、脂肪酶。营养价值也很高。可是这样的瓜你敢吃吗。#我心中的乳神# \\u200b', '【阿婆厕所捡婴儿 被计生干部查获后活活摔死】15日下午，刘阿婆从乡财政所厕所粪便中将孩子捞起，简单清洗，剪脐带打针消毒。处理妥当正给孩子喂水时，武汉黄陂区蔡店乡计生办5人出现，夺走孩子掼在地上，用脚踢，放稻田里淹。引起当地群众的公愤。 @上海派對SHClubbing']\n"
     ]
    },
    {
     "name": "stderr",
     "output_type": "stream",
     "text": [
      "\n"
     ]
    }
   ],
   "source": [
    "# 数据来源文件夹 -- 内含多个json文件\n",
    "non_rumor = './Chinese_Rumor_Dataset/CED_Dataset/non-rumor-repost'\n",
    "rumor = './Chinese_Rumor_Dataset/CED_Dataset/rumor-repost'\n",
    "original = './Chinese_Rumor_Dataset/CED_Dataset/original-microblog'\n",
    "\n",
    "non_rumor_data = []\n",
    "rumor_data = []\n",
    "\n",
    "# 遍历文件夹，读取文本数据\n",
    "print('开始读取数据')\n",
    "for file in tqdm(os.listdir(original)):\n",
    "    try:\n",
    "        data = json.load(open(os.path.join(original, file), 'rb'))['text']\n",
    "    except:\n",
    "        continue\n",
    "\n",
    "    is_rumor = (file in os.listdir(rumor))\n",
    "    if is_rumor:\n",
    "        rumor_data.append(data)\n",
    "    else:\n",
    "        non_rumor_data.append(data)\n",
    "\n",
    "print('结束, 有{}条谣言, 有{}条非谣言!'.format(len(rumor_data), len(non_rumor_data)))\n",
    "print(non_rumor_data[-2:])\n",
    "print('-'*20)\n",
    "print(rumor_data[-2:])\n",
    "\n",
    "\n",
    "# 把数据储存到指定地方 -- 统一到2个txt文件\n",
    "pth = './rumor_detection_data'\n",
    "if not os.path.exists(pth):\n",
    "    os.makedirs(pth)\n",
    "\n",
    "good_file = os.path.join(pth, 'non_rumor.txt')\n",
    "bad_file = os.path.join(pth, 'rumor.txt')\n",
    "\n",
    "# with open(good_file, 'w', encoding='utf-8') as f:\n",
    "#     f.write('\\n'.join(non_rumor_data))\n",
    "# with open(bad_file, 'w', encoding='utf-8') as f:\n",
    "#     f.write('\\n'.join(rumor_data))"
   ]
  },
  {
   "cell_type": "markdown",
   "metadata": {
    "datalore": {
     "hide_input_from_viewers": false,
     "hide_output_from_viewers": false,
     "type": "MD"
    }
   },
   "source": [
    "### 3.2.3 文本预处理（过滤标点，分词）"
   ]
  },
  {
   "cell_type": "code",
   "execution_count": 6,
   "metadata": {
    "datalore": {
     "hide_input_from_viewers": false,
     "hide_output_from_viewers": false,
     "type": "CODE"
    }
   },
   "outputs": [
    {
     "name": "stderr",
     "output_type": "stream",
     "text": [
      "Building prefix dict from the default dictionary ...\n",
      "Loading model from cache /tmp/jieba.cache\n"
     ]
    },
    {
     "name": "stdout",
     "output_type": "stream",
     "text": [
      "分词前： 最值得爱一生的五大星座排名第一名巨蟹座不畏艰辛患难与共第二名金牛座不离不弃第三名处女座不逃避困难第四名魔羯座一起吃苦第五名天蝎座真情守护被巨蟹座爱上是需要几世才能修来的好福气啊\n"
     ]
    },
    {
     "name": "stderr",
     "output_type": "stream",
     "text": [
      "Loading model cost 0.382 seconds.\n",
      "Prefix dict has been built successfully.\n"
     ]
    },
    {
     "name": "stdout",
     "output_type": "stream",
     "text": [
      "分词后： ['最', '值得', '爱', '一生', '的', '五大', '星座', '排名', '第一名', '巨蟹座', '不畏', '艰辛', '患难与共', '第二名', '金牛座', '不离', '不弃', '第三名', '处女座', '不', '逃避', '困难', '第四名', '魔羯座', '一起', '吃苦', '第五名', '天蝎座', '真情', '守护', '被', '巨蟹座', '爱上', '是', '需要', '几世', '才能', '修来', '的', '好福气', '啊']\n",
      "./rumor_detection_data/non_rumor.txt 包含 1849 行, 92943 个词.\n",
      "./rumor_detection_data/rumor.txt 包含 1538 行, 78645 个词.\n",
      "过滤掉词频 <= 3的单词后，字典大小：6690\n"
     ]
    }
   ],
   "source": [
    "# 将文本中的标点符号过滤掉\n",
    "def filter_punc(sentence):\n",
    "    sentence = re.sub(\"[\\s+\\.\\!\\/_,$%^*(+\\\"\\']+|[+——！，。？?、~@#￥%……&*（）：:；“”】》《-【\\][]\", \"\",sentence.strip())\n",
    "    return sentence\n",
    "\n",
    "# 扫描所有的文本，分词、建立词典，分出是谣言还是非谣言，is_filter可以过滤是否筛选掉标点符号\n",
    "def Prepare_data(good_file, bad_file, is_filter = True, threshold=3):\n",
    "    all_words = [] #存储所有的单词\n",
    "    pos_sentences = [] #存储非谣言\n",
    "    neg_sentences = [] #存储谣言\n",
    "    with open(good_file, 'r', encoding='utf-8') as fr:\n",
    "        for idx, line in enumerate(fr):\n",
    "            if is_filter:\n",
    "                #过滤标点符号\n",
    "                line = filter_punc(line)\n",
    "                if not idx: # 只打印第一个例子看看\n",
    "                    print('分词前：', line)\n",
    "            #分词\n",
    "            words = jieba.lcut(line)\n",
    "            if not idx: # 只打印第一个例子看看\n",
    "                print('分词后：', words)\n",
    "            if len(words) > 0:\n",
    "                all_words += words\n",
    "                pos_sentences.append(words)\n",
    "    print('{0} 包含 {1} 行, {2} 个词.'.format(good_file, idx+1, len(all_words)))\n",
    "\n",
    "    count = len(all_words)\n",
    "    with open(bad_file, 'r', encoding='utf-8') as fr:\n",
    "        for idx, line in enumerate(fr):\n",
    "            if is_filter:\n",
    "                line = filter_punc(line.strip())\n",
    "            words = jieba.lcut(line)\n",
    "            if len(words) > 0:\n",
    "                all_words += words\n",
    "                neg_sentences.append(words)\n",
    "    print('{0} 包含 {1} 行, {2} 个词.'.format(bad_file, idx+1, len(all_words)-count))\n",
    "\n",
    "    #建立词典，只保留频次大于threshold的单词\n",
    "    vocab = {'<unk>': 0}\n",
    "    cnt = Counter(all_words)\n",
    "    for word, freq in cnt.items():\n",
    "        if freq > threshold:\n",
    "            vocab[word] = len(vocab)\n",
    "        \n",
    "    print('过滤掉词频 <= {}的单词后，字典大小：{}'.format(threshold, len(vocab)))\n",
    "    return pos_sentences, neg_sentences, vocab\n",
    "\n",
    "\n",
    "pos_sentences, neg_sentences, vocab = Prepare_data(good_file, bad_file, True, threshold=3)"
   ]
  },
  {
   "cell_type": "markdown",
   "metadata": {
    "datalore": {
     "hide_input_from_viewers": false,
     "hide_output_from_viewers": false,
     "type": "MD"
    }
   },
   "source": [
    "### 3.2.4 数据集划分"
   ]
  },
  {
   "cell_type": "code",
   "execution_count": 7,
   "metadata": {
    "datalore": {
     "hide_input_from_viewers": false,
     "hide_output_from_viewers": false,
     "type": "CODE"
    }
   },
   "outputs": [],
   "source": [
    "# 获得句子的向量化表示\n",
    "def sentence2vec(word_ids, vocab_size):\n",
    "    vector = np.zeros(vocab_size)\n",
    "    for word_id in word_ids:\n",
    "        vector[word_id] += 1 # 统计词频，得到词频向量即为句子的向量化表示\n",
    "    return 1.0 * vector / len(word_ids)\n",
    "\n",
    "bow = [] #词袋\n",
    "labels = [] #标签\n",
    "sentences = [] #原始句子，调试用\n",
    "sentences_id = [] #原始句子对应的index列表\n",
    "\n",
    "# 处理非谣言\n",
    "for sentence in pos_sentences:\n",
    "    new_sentence = []\n",
    "    for word in sentence:\n",
    "        new_sentence.append(vocab[word] if word in vocab else vocab['<unk>'])\n",
    "    \n",
    "    bow.append(sentence2vec(new_sentence, len(vocab)))\n",
    "    labels.append(0) #正标签为0 表示非谣言数据\n",
    "    sentences.append(sentence)\n",
    "    sentences_id.append(new_sentence)\n",
    "\n",
    "# 处理谣言\n",
    "for sentence in neg_sentences:\n",
    "    new_sentence = []\n",
    "    for word in sentence:\n",
    "        new_sentence.append(vocab[word] if word in vocab else vocab['<unk>'])\n",
    "\n",
    "    bow.append(sentence2vec(new_sentence, len(vocab)))\n",
    "    labels.append(1) #负标签为1\n",
    "    sentences.append(sentence)\n",
    "    sentences_id.append(new_sentence)\n",
    "\n",
    "# 打乱所有的数据顺序，形成数据集\n",
    "# indices为所有数据下标的一个全排列\n",
    "indices = np.random.permutation(len(bow))\n",
    "\n",
    "#对整个数据集进行划分，分为：训练集、验证集和测试集，这里是2:1:1\n",
    "test_size = len(bow) // 4\n",
    "\n",
    "data = {\n",
    "    'bow': bow,# 词袋数据\n",
    "    'labels': labels,# 标签\n",
    "    'sentences_id': sentences_id,# 句子对应的word下标列表\n",
    "    'sentences': sentences,# 句子\n",
    "    'vocab': vocab # 词典,\n",
    "}\n",
    "split = {\n",
    "    'train': indices[2*test_size:],\n",
    "    'vali': indices[:test_size],\n",
    "    'test': indices[test_size:2*test_size]\n",
    "}"
   ]
  },
  {
   "cell_type": "code",
   "execution_count": 8,
   "metadata": {
    "datalore": {
     "hide_input_from_viewers": false,
     "hide_output_from_viewers": false,
     "type": "CODE"
    }
   },
   "outputs": [
    {
     "name": "stdout",
     "output_type": "stream",
     "text": [
      "train 非谣言有938条，谣言有757条\n",
      "vali 非谣言有478条，谣言有368条\n",
      "test 非谣言有433条，谣言有413条\n"
     ]
    }
   ],
   "source": [
    "# 测试一下划分情况\n",
    "while True:\n",
    "    tag = True\n",
    "    for key, indices in split.items():\n",
    "        count = [0, 0]\n",
    "        for idx in indices:\n",
    "            count[labels[idx]] += 1\n",
    "        # 如果类别过于不平衡，则重新随机化\n",
    "        cls_ratio = count[0]/count[1]\n",
    "        ratio_threshold = 1.5\n",
    "        if cls_ratio > ratio_threshold or cls_ratio < 1/ratio_threshold:\n",
    "            indices = np.random.permutation(len(bow))\n",
    "            tag = False\n",
    "            break\n",
    "        print(key, '非谣言有{}条，谣言有{}条'.format(count[0], count[1]))\n",
    "        if key==2:\n",
    "            tag = True\n",
    "    if tag:\n",
    "        break"
   ]
  },
  {
   "cell_type": "markdown",
   "metadata": {
    "datalore": {
     "hide_input_from_viewers": false,
     "hide_output_from_viewers": false,
     "type": "MD"
    }
   },
   "source": [
    "## 3.3 训练/测试函数定义"
   ]
  },
  {
   "cell_type": "code",
   "execution_count": 9,
   "metadata": {
    "datalore": {
     "hide_input_from_viewers": false,
     "hide_output_from_viewers": false,
     "type": "CODE"
    }
   },
   "outputs": [],
   "source": [
    "class AverageMeter(object):\n",
    "    \"\"\"\n",
    "    用于储存与计算平均值\n",
    "    \"\"\" \n",
    "    def __init__(self):\n",
    "        self.reset()\n",
    "\n",
    "    def reset(self):\n",
    "        self.val = 0\n",
    "        self.avg = 0\n",
    "        self.sum = 0\n",
    "        self.count = 0\n",
    "\n",
    "    def update(self, val, n=1, multiply=True):\n",
    "        self.val = val\n",
    "        if multiply:\n",
    "            self.sum += val * n\n",
    "        else:\n",
    "            self.sum += val\n",
    "        self.count += n\n",
    "        self.avg = self.sum / self.count\n",
    "\n",
    "def training(model, loader, crit, optim, device):\n",
    "    # 模型调成训练模式\n",
    "    model.train()\n",
    "    # 把模型移到指定设备\n",
    "    model.to(device)\n",
    "    # 用于记录损失和正确率\n",
    "    meter_loss, meter_acc = AverageMeter(), AverageMeter()\n",
    "    \n",
    "    for data in loader:\n",
    "        # 清空梯度\n",
    "        optim.zero_grad()\n",
    "        # 获取数据并将其移至指定设备中, cpu / gpu\n",
    "        inputs, labels = data\n",
    "        inputs, labels = inputs.to(device), labels.to(device)\n",
    "        labels = labels.view(-1)\n",
    "        # 将输入送入网络，获得输出\n",
    "        outputs = model(inputs)\n",
    "        # 计算损失\n",
    "        loss = crit(outputs, labels)\n",
    "        # 反向传播，计算梯度\n",
    "        loss.backward()\n",
    "        # 更新网络参数\n",
    "        optim.step()\n",
    "        \n",
    "        # 记录损失\n",
    "        num_sample = inputs.size(0)\n",
    "        meter_loss.update(loss.item(), num_sample)\n",
    "        # 记录预测正确率\n",
    "        preds = outputs.max(dim=1)[1] # 网络预测的类别结果\n",
    "        correct = (preds == labels).sum() # 计算预测的正确个数\n",
    "        meter_acc.update(correct.item(), num_sample, multiply=False)\n",
    "    \n",
    "    # 返回训练集的平均损失和平均正确率\n",
    "    return meter_loss.avg, meter_acc.avg\n",
    "\n",
    "@torch.no_grad()\n",
    "def evaluate(model, loader, crit, device):\n",
    "    # 模型调成评估模式\n",
    "    model.eval()\n",
    "    # 把模型移到指定设备\n",
    "    model.to(device)\n",
    "    # 用于记录损失和正确率\n",
    "    meter_loss, meter_acc = AverageMeter(), AverageMeter()\n",
    "    for data in loader:\n",
    "        # 获取数据并将其移至指定设备中, cpu / gpu\n",
    "        inputs, labels = data\n",
    "        inputs, labels = inputs.to(device), labels.to(device)\n",
    "        labels = labels.view(-1)\n",
    "        # 将输入送入网络，获得输出\n",
    "        outputs = model(inputs)\n",
    "        \n",
    "        # 计算并记录损失\n",
    "        loss = crit(outputs, labels)\n",
    "        num_sample = inputs.size(0)\n",
    "        meter_loss.update(loss.item(), num_sample)\n",
    "        # 记录预测正确率\n",
    "        preds = outputs.max(dim=1)[1] # 网络预测的类别结果\n",
    "        correct = (preds == labels).sum() # 计算预测的正确个数\n",
    "        meter_acc.update(correct.item(), num_sample, multiply=False)\n",
    "\n",
    "    return meter_loss.avg, meter_acc.avg"
   ]
  },
  {
   "cell_type": "markdown",
   "metadata": {
    "datalore": {
     "hide_input_from_viewers": false,
     "hide_output_from_viewers": false,
     "type": "MD"
    }
   },
   "source": [
    "## 3.4 词袋模型"
   ]
  },
  {
   "cell_type": "markdown",
   "metadata": {
    "datalore": {
     "hide_input_from_viewers": false,
     "hide_output_from_viewers": false,
     "type": "MD"
    }
   },
   "source": [
    "### 3.4.1 数据加载器定义"
   ]
  },
  {
   "cell_type": "code",
   "execution_count": 10,
   "metadata": {
    "datalore": {
     "hide_input_from_viewers": false,
     "hide_output_from_viewers": false,
     "type": "CODE"
    }
   },
   "outputs": [],
   "source": [
    "class BaseDataset(Dataset): # BOW化的sentence无需指定数据的max_len，因为已经确定len是词表大小\n",
    "    def __init__(self, data, split):\n",
    "        super().__init__()\n",
    "        self.make_dataset(data, split)\n",
    "\n",
    "    def make_dataset(self, data, split):\n",
    "        # Data是包含了整个数据集的数据\n",
    "        # 而我们只需要训练集/验证集/测试集的数据\n",
    "        # 我们按照划分基准split里面的下标来确定加载哪部分的数据\n",
    "        self.dataset = []\n",
    "        for idx in split:\n",
    "            item = [torch.FloatTensor(data['bow'][idx]), \n",
    "                    torch.LongTensor([data['labels'][idx]])] # 做CELoss需要label是long类型\n",
    "            self.dataset.append(item)\n",
    "\n",
    "    def __getitem__(self, ix):\n",
    "        # ix大于等于0，小于len(self.dataset)\n",
    "        return self.dataset[ix]\n",
    "    \n",
    "    def __len__(self):\n",
    "        # 一共有多少数据\n",
    "        return len(self.dataset)\n",
    "\n",
    "\n",
    "def get_loader(data, split, batch_size=64, class_func=BaseDataset,load_tag=False):\n",
    "    # split.keys() 包括 'train', 'vali', 'test'\n",
    "    # 所以此函数是为了拿到训练集，验证集和测试集的数据加载器\n",
    "    loader = []\n",
    "    for mode in split.keys():\n",
    "        # split[mode]指定了要取data的哪些数据\n",
    "        if issubclass(class_func,BaseDataset):\n",
    "            dataset = class_func(data, split[mode])\n",
    "        else:\n",
    "            dataset = class_func(data, split[mode],load_tag)\n",
    "        # Dataloader可帮助我们一次性取batch_size个样本出来\n",
    "        loader.append(\n",
    "            DataLoader(dataset, \n",
    "                       batch_size = batch_size,\n",
    "                       shuffle = True if mode=='train' else False)\n",
    "        )\n",
    "    return loader"
   ]
  },
  {
   "cell_type": "code",
   "execution_count": 11,
   "metadata": {
    "datalore": {
     "hide_input_from_viewers": false,
     "hide_output_from_viewers": false,
     "type": "CODE"
    }
   },
   "outputs": [
    {
     "name": "stdout",
     "output_type": "stream",
     "text": [
      "词袋输入的形状： torch.Size([64, 6690])\n",
      "标签的形状： torch.Size([64, 1])\n"
     ]
    }
   ],
   "source": [
    "# 测试一下\n",
    "_, _, fake_loader = get_loader(data, split, 64)\n",
    "x, y = next(iter(fake_loader))\n",
    "print('词袋输入的形状：', x.shape)\n",
    "print('标签的形状：', y.shape)"
   ]
  },
  {
   "cell_type": "markdown",
   "metadata": {
    "datalore": {
     "hide_input_from_viewers": false,
     "hide_output_from_viewers": false,
     "type": "MD"
    }
   },
   "source": [
    "### 3.4.2 模型定义"
   ]
  },
  {
   "cell_type": "code",
   "execution_count": 12,
   "metadata": {
    "datalore": {
     "hide_input_from_viewers": false,
     "hide_output_from_viewers": false,
     "type": "CODE"
    }
   },
   "outputs": [],
   "source": [
    "# 一个简单的前馈神经网络，三层，第一层线性层，加一个非线性ReLU，第二层线性层\n",
    "# 输入维度为词典的大小：每一段评论的词袋模型\n",
    "class Linear_Model(torch.nn.Module):\n",
    "    def __init__(self, vocab_size, hidden_size, num_class=2, dropout=0):\n",
    "        super(Linear_Model,self).__init__()\n",
    "        \n",
    "        self.net = nn.Sequential(\n",
    "                    nn.Linear(vocab_size, hidden_size),\n",
    "                    nn.ReLU(),\n",
    "                    nn.Dropout(dropout),\n",
    "                    nn.Linear(hidden_size, num_class),\n",
    "                )\n",
    "        \n",
    "    def forward(self,x):\n",
    "        x = self.net(x)\n",
    "        x = F.log_softmax(x, dim=1)\n",
    "        return x"
   ]
  },
  {
   "cell_type": "markdown",
   "metadata": {
    "datalore": {
     "hide_input_from_viewers": false,
     "hide_output_from_viewers": false,
     "type": "MD"
    }
   },
   "source": [
    "### 3.4.3 运行"
   ]
  },
  {
   "cell_type": "code",
   "execution_count": 13,
   "metadata": {
    "datalore": {
     "hide_input_from_viewers": false,
     "hide_output_from_viewers": false,
     "type": "CODE"
    }
   },
   "outputs": [
    {
     "name": "stdout",
     "output_type": "stream",
     "text": [
      "Linear_Model(\n",
      "  (net): Sequential(\n",
      "    (0): Linear(in_features=6690, out_features=10, bias=True)\n",
      "    (1): ReLU()\n",
      "    (2): Dropout(p=0.0, inplace=False)\n",
      "    (3): Linear(in_features=10, out_features=2, bias=True)\n",
      "  )\n",
      ")\n",
      "第0轮，训练集损失：0.69, 训练集准确率：0.52, 验证集损失：0.64, 验证集准确率: 0.59\n",
      "第1轮，训练集损失：0.60, 训练集准确率：0.71, 验证集损失：0.57, 验证集准确率: 0.73\n",
      "第2轮，训练集损失：0.50, 训练集准确率：0.81, 验证集损失：0.49, 验证集准确率: 0.80\n",
      "第3轮，训练集损失：0.40, 训练集准确率：0.89, 验证集损失：0.43, 验证集准确率: 0.84\n",
      "第4轮，训练集损失：0.32, 训练集准确率：0.92, 验证集损失：0.39, 验证集准确率: 0.85\n",
      "第5轮，训练集损失：0.25, 训练集准确率：0.95, 验证集损失：0.36, 验证集准确率: 0.86\n",
      "第6轮，训练集损失：0.20, 训练集准确率：0.97, 验证集损失：0.35, 验证集准确率: 0.85\n",
      "第7轮，训练集损失：0.16, 训练集准确率：0.97, 验证集损失：0.33, 验证集准确率: 0.87\n",
      "第8轮，训练集损失：0.13, 训练集准确率：0.98, 验证集损失：0.32, 验证集准确率: 0.88\n",
      "第9轮，训练集损失：0.10, 训练集准确率：0.99, 验证集损失：0.31, 验证集准确率: 0.88\n",
      "第10轮，训练集损失：0.09, 训练集准确率：0.99, 验证集损失：0.31, 验证集准确率: 0.88\n",
      "第11轮，训练集损失：0.07, 训练集准确率：0.99, 验证集损失：0.31, 验证集准确率: 0.87\n",
      "第12轮，训练集损失：0.06, 训练集准确率：1.00, 验证集损失：0.32, 验证集准确率: 0.88\n",
      "第13轮，训练集损失：0.05, 训练集准确率：1.00, 验证集损失：0.32, 验证集准确率: 0.87\n",
      "第14轮，训练集损失：0.04, 训练集准确率：1.00, 验证集损失：0.32, 验证集准确率: 0.88\n",
      "第15轮，训练集损失：0.04, 训练集准确率：1.00, 验证集损失：0.32, 验证集准确率: 0.88\n",
      "第16轮，训练集损失：0.03, 训练集准确率：1.00, 验证集损失：0.33, 验证集准确率: 0.88\n",
      "第17轮，训练集损失：0.03, 训练集准确率：1.00, 验证集损失：0.33, 验证集准确率: 0.87\n",
      "第18轮，训练集损失：0.03, 训练集准确率：1.00, 验证集损失：0.33, 验证集准确率: 0.87\n",
      "第19轮，训练集损失：0.03, 训练集准确率：1.00, 验证集损失：0.33, 验证集准确率: 0.87\n",
      "第20轮，训练集损失：0.03, 训练集准确率：1.00, 验证集损失：0.33, 验证集准确率: 0.87\n",
      "第21轮，训练集损失：0.03, 训练集准确率：1.00, 验证集损失：0.33, 验证集准确率: 0.87\n",
      "第22轮，训练集损失：0.03, 训练集准确率：1.00, 验证集损失：0.33, 验证集准确率: 0.87\n",
      "第23轮，训练集损失：0.03, 训练集准确率：1.00, 验证集损失：0.33, 验证集准确率: 0.87\n",
      "第24轮，训练集损失：0.03, 训练集准确率：1.00, 验证集损失：0.33, 验证集准确率: 0.87\n",
      "第25轮，训练集损失：0.03, 训练集准确率：1.00, 验证集损失：0.33, 验证集准确率: 0.87\n",
      "第26轮，训练集损失：0.03, 训练集准确率：1.00, 验证集损失：0.33, 验证集准确率: 0.87\n",
      "第27轮，训练集损失：0.03, 训练集准确率：1.00, 验证集损失：0.34, 验证集准确率: 0.87\n",
      "第28轮，训练集损失：0.03, 训练集准确率：1.00, 验证集损失：0.34, 验证集准确率: 0.87\n",
      "第29轮，训练集损失：0.03, 训练集准确率：1.00, 验证集损失：0.34, 验证集准确率: 0.87\n",
      "测试集正确率： 0.8676122931442081\n"
     ]
    }
   ],
   "source": [
    "# 参数\n",
    "num_epochs = 30\n",
    "learning_rate = 0.005\n",
    "batch_size = 32\n",
    "vocab_size = len(vocab)\n",
    "hidden_size = 10\n",
    "dropout = 0.0\n",
    "\n",
    "# 运行的设备\n",
    "if torch.cuda.is_available():\n",
    "    device = torch.device('cuda')\n",
    "else:\n",
    "    device = torch.device('cpu')\n",
    "\n",
    "# 数据加载器\n",
    "train_loader, vali_loader, test_loader = get_loader(data, split, batch_size=batch_size, class_func=BaseDataset)\n",
    "# 模型实例化\n",
    "model = Linear_Model(vocab_size, hidden_size, dropout=dropout)\n",
    "# 打印模型\n",
    "print(model)\n",
    "# 损失函数 -- 交叉熵\n",
    "crit = torch.nn.NLLLoss()\n",
    "# 优化方法 -- Adam\n",
    "optimizer = torch.optim.Adam(model.parameters(), lr = learning_rate)\n",
    "scheduler = torch.optim.lr_scheduler.ReduceLROnPlateau(optimizer, mode='min', factor=0.1, patience=5, min_lr=1e-7)\n",
    "\n",
    "records = []\n",
    "best_val_acc = 0.\n",
    "best_val_model = None\n",
    "for epoch in range(num_epochs):\n",
    "    # 训练\n",
    "    train_loss, train_acc = training(model, train_loader, crit, optimizer, device)\n",
    "    # 验证\n",
    "    vali_loss, vali_acc = evaluate(model, vali_loader, crit, device)\n",
    "\n",
    "    scheduler.step(vali_loss)\n",
    "    # 打印消息\n",
    "    print('第{}轮，训练集损失：{:.2f}, 训练集准确率：{:.2f}, 验证集损失：{:.2f}, 验证集准确率: {:.2f}'.format(\n",
    "        epoch, train_loss, train_acc, vali_loss, vali_acc))\n",
    "    # 储存信息以便可视化\n",
    "    records.append([train_loss, train_acc, vali_loss, vali_acc,optimizer.param_groups[0]['lr']])\n",
    "    best_val_acc = max(best_val_acc,vali_acc)\n",
    "    if best_val_acc == vali_acc:\n",
    "        best_val_model = model\n",
    "# 测试\n",
    "_, test_acc = evaluate(best_val_model, test_loader, crit, device)\n",
    "print('测试集正确率：', test_acc)"
   ]
  },
  {
   "cell_type": "markdown",
   "metadata": {
    "datalore": {
     "hide_input_from_viewers": false,
     "hide_output_from_viewers": false,
     "type": "MD"
    }
   },
   "source": [
    "### 3.4.4 训练过程损失&准确率的变化"
   ]
  },
  {
   "cell_type": "code",
   "execution_count": 14,
   "metadata": {
    "datalore": {
     "hide_input_from_viewers": false,
     "hide_output_from_viewers": false,
     "type": "CODE"
    }
   },
   "outputs": [
    {
     "data": {
      "image/png": "[encoded data removed]",
      "text/plain": [
       "<Figure size 1600x1000 with 2 Axes>"
      ]
     },
     "metadata": {},
     "output_type": "display_data"
    }
   ],
   "source": [
    "# 绘制误差曲线\n",
    "plt.figure(figsize=(16,10))\n",
    "plt.subplot(1,2,1)\n",
    "plt.plot([i[0] for i in records], label = 'Train Loss')\n",
    "plt.plot([i[1] for i in records], label = 'Train Accuracy')\n",
    "plt.plot([i[2] for i in records], label = 'Valid Loss')\n",
    "plt.plot([i[3] for i in records], label = 'Valid Accuracy')\n",
    "plt.xlabel('Epoch')\n",
    "plt.ylabel('Loss & Accuracy')\n",
    "plt.subplot(1,2,2)\n",
    "plt.plot([i[4] for i in records],label='lr')\n",
    "plt.legend()\n",
    "plt.show()"
   ]
  },
  {
   "cell_type": "markdown",
   "metadata": {
    "datalore": {
     "hide_input_from_viewers": false,
     "hide_output_from_viewers": false,
     "type": "MD"
    }
   },
   "source": [
    "## 3.5 Transformer"
   ]
  },
  {
   "cell_type": "markdown",
   "metadata": {
    "datalore": {
     "hide_input_from_viewers": false,
     "hide_output_from_viewers": false,
     "type": "MD"
    }
   },
   "source": [
    "### 3.5.1 数据加载器定义"
   ]
  },
  {
   "cell_type": "code",
   "execution_count": 15,
   "metadata": {},
   "outputs": [],
   "source": [
    "class Vocab: \n",
    "    def __init__(self,input_tokens=None,min_freq_threshold=10,special_token_tag=False):\n",
    "        if special_token_tag: # whether to use pad,begin of sentance,end of sentence,unknown tokens\n",
    "            self.pad,self.bos,self.eos,self.unk  = 0,1,2,3\n",
    "            tokens = ['<pad>','<bos>','<eos>','<unk>'] # ?\n",
    "            self.special_tokens = ['<pad>','<bos>','<eos>','<unk>']\n",
    "        else:\n",
    "            self.unk = 0\n",
    "            tokens = ['<unk>']\n",
    "            self.special_tokens = ['<unk>']\n",
    "        \n",
    "        # when load, we can just initialze a nearly empty Vocab class\n",
    "        # then load .pkl file to give the value of token2idx,idx2token\n",
    "        if input_tokens is None: \n",
    "            return \n",
    "            \n",
    "        # hashmap to count the tokens(key:token,value:freq)\n",
    "        assert len(input_tokens),'0 length is not allowed'\n",
    "        if isinstance(input_tokens[0],list): \n",
    "            input_tokens = [token for sentence in input_tokens for token in sentence if token not in self.special_tokens]\n",
    "            tokens_freq = Counter(input_tokens)\n",
    "        else:\n",
    "            tokens_freq = Counter(input_tokens) \n",
    "        tokens_freq = sorted(tokens_freq.items(),key=lambda x:x[0]) # sort the tokens_freq dict by dictionary order\n",
    "        tokens_freq = sorted(tokens_freq,key=lambda x:x[1],reverse=True) # sort the tokens_freq dict by freq order\n",
    "        tokens_freq = dict(tokens_freq)\n",
    "        # print(tokens_freq)\n",
    "        \n",
    "        # establish two hashmaps to transform index to token or reverse transform\n",
    "        self.idx2token = []\n",
    "        self.token2idx = dict()\n",
    "\n",
    "        # filter the tokens whose freq is letter than min_freq_threshold\n",
    "        tokens += list(filter(lambda x:tokens_freq[x]>min_freq_threshold,tokens_freq.keys()))\n",
    "        # tokens += [token for token,freq in tokens_freq.items() if freq>=min_freq_threshold]\n",
    "\n",
    "        # add the token to the two hashmaps\n",
    "        i = 0 # 0 index is unknown token\n",
    "        for token in tokens:\n",
    "            self.idx2token.append(token)\n",
    "            self.token2idx[token] = i\n",
    "            i += 1\n",
    "        assert len(self.idx2token) == len(self.token2idx),(len(self.idx2token),len(self.token2idx))\n",
    "    \n",
    "    def __len__(self):\n",
    "        return len(self.idx2token)\n",
    "    \n",
    "    def __getitem__(self,tokens): \n",
    "        '''\n",
    "        input : tokens(single char or list/tuple) \n",
    "        output : idx(then torch.nn.Embedding automatically transform to one-hot code)\n",
    "        '''\n",
    "        if (not isinstance(tokens,tuple)) and (not isinstance(tokens,list)):\n",
    "            return self.token2idx.get(tokens,self.unk)\n",
    "        else:\n",
    "            # recursive call the __getitem__,until the token is a single char\n",
    "            # use this strategy, we can process higher dim tensor such as :\n",
    "            # [[a,b,c,...]](shape:[n1,n2]) or even [[[a,b,c],[d,e,f]]](shape:[n1,n2,n3])\n",
    "            # the return shape is the same as the input\n",
    "            return [self.__getitem__(token) for token in tokens]\n",
    "    \n",
    "    def to_tokens(self,indices):\n",
    "        '''\n",
    "            input the indices\n",
    "            output the corresponding tokens\n",
    "        '''\n",
    "        if (not isinstance(indices,tuple)) and (not isinstance(indices,list)):\n",
    "            return self.idx2token[indices]\n",
    "        else:\n",
    "            return [self.to_tokens(index) for index in indices]\n"
   ]
  },
  {
   "cell_type": "code",
   "execution_count": 16,
   "metadata": {
    "datalore": {
     "hide_input_from_viewers": false,
     "hide_output_from_viewers": false,
     "type": "CODE"
    }
   },
   "outputs": [],
   "source": [
    "class MyDataset(Dataset): # Transformer的输入句子的表示形式会不定长，要矩阵化存储需要指定一个max_len，不到的去做padding，超过的做truncationœ\n",
    "    def __init__(self, data, split,load_vocab=False):\n",
    "        super().__init__()\n",
    "        self.load_tag = load_vocab\n",
    "        if not load_vocab:\n",
    "            self.vocab = data['vocab']\n",
    "            self.pad_index = len(self.vocab.keys()) if '<pad>' not in self.vocab.keys() else self.vocab['<pad>']\n",
    "        else:\n",
    "            self.vocab = Vocab()\n",
    "            save_dir = './model_vocab_glove'\n",
    "            with open(os.path.join(save_dir,'token2idx.pkl'),'rb') as f:\n",
    "                self.vocab.token2idx = pickle.load(f)\n",
    "            \n",
    "            with open(os.path.join(save_dir,'idx2token.pkl'),'rb') as f:\n",
    "                self.vocab.idx2token = pickle.load(f)\n",
    "            self.pad_index = len(self.vocab.token2idx.keys()) if '<pad>' not in self.vocab.token2idx.keys() else self.vocab.pad\n",
    "            print('finish loading vocabulary')\n",
    "        self.max_len = data.get('max_len', 30)\n",
    "        self.make_dataset(data, split)\n",
    "\n",
    "    def make_dataset(self, data, split):\n",
    "        # Data是包含了整个数据集的数据\n",
    "        # 而我们只需要训练集/验证集/测试集的数据\n",
    "        # 我们按照划分基准split里面的下标来确定加载哪部分的数据\n",
    "        self.dataset = []\n",
    "        for idx in split:\n",
    "            if not self.load_tag:\n",
    "                this_sentence_id = data['sentences_id'][idx]\n",
    "            else:\n",
    "                this_sentence_id = self.vocab[data['sentences'][idx]]\n",
    "            item = [\n",
    "                torch.LongTensor(self.pad_data(this_sentence_id)),\n",
    "                torch.LongTensor([data['labels'][idx]])\n",
    "            ]\n",
    "            self.dataset.append(item)\n",
    "\n",
    "    def pad_data(self, seq):\n",
    "        # 让序列长度最长只有max_len，不足就补pad，超过就截断\n",
    "        if len(seq) < self.max_len:\n",
    "            seq += [self.pad_index] * (self.max_len - len(seq))\n",
    "\n",
    "        else:\n",
    "            seq = seq[:self.max_len]\n",
    "        return seq\n",
    "    \n",
    "    def get_pad_index(self):\n",
    "        return self.pad_index\n",
    "            \n",
    "    def __getitem__(self, ix):\n",
    "        # ix大于等于0，小于len(self.dataset)\n",
    "        return self.dataset[ix]\n",
    "    \n",
    "    def __len__(self):\n",
    "        # 一共有多少数据\n",
    "        return len(self.dataset)"
   ]
  },
  {
   "cell_type": "markdown",
   "metadata": {
    "datalore": {
     "hide_input_from_viewers": false,
     "hide_output_from_viewers": false,
     "type": "MD"
    }
   },
   "source": [
    "### 3.5.2 Transformer基础组件实现"
   ]
  },
  {
   "cell_type": "code",
   "execution_count": 17,
   "metadata": {
    "datalore": {
     "hide_input_from_viewers": false,
     "hide_output_from_viewers": false,
     "type": "CODE"
    }
   },
   "outputs": [],
   "source": [
    "import math\n",
    "class ScaledDotProductAttention(nn.Module):\n",
    "    def __init__(self, hidden_size, num_heads, dropout):\n",
    "        super().__init__()\n",
    "        assert hidden_size % num_heads == 0 # 维度需要能整除num-head才能采用多头注意力\n",
    "        self.num_heads = num_heads\n",
    "        self.attention_head_size = hidden_size // num_heads # 每个头的channel数\n",
    "        self.all_head_size = hidden_size\n",
    "\n",
    "        self.query = nn.Linear(hidden_size, hidden_size) # 大矩阵去实现，多个小矩阵不好并行\n",
    "        self.key = nn.Linear(hidden_size, hidden_size)\n",
    "        self.value = nn.Linear(hidden_size, hidden_size)\n",
    "        self.dropout = nn.Dropout(dropout)\n",
    "\n",
    "    def transpose_for_scores(self, x: torch.Tensor) -> torch.Tensor: # 输入维度是: [bs,seq-len,hidden-size] 输出得是[bs,num-head,len-seq,head_channel_size]\n",
    "        new_x_shape = x.size()[:-1] + (self.num_heads, self.attention_head_size) # 把channel数拆了\n",
    "        x = x.view(*new_x_shape) # [bsz, seq_len, n_head, head_size]\n",
    "        # 绝不能直接 x = x.view(bs,n_head,seq_len,head_size] 这样数据的排列会有问题，这个stride是不正确的分块\n",
    "        return x.permute(0, 2, 1, 3) # [bsz, n_head, seq_len, head_size]\n",
    "\n",
    "    def forward(self, q, k, v, attention_mask=None):\n",
    "        query = self.transpose_for_scores(self.query(q)) # [bsz, n_head, lq, head_size]\n",
    "        key = self.transpose_for_scores(self.key(k))     # [bsz, n_head, lk, head_size]\n",
    "        value = self.transpose_for_scores(self.value(v)) # [bsz, n_head, lv, head_size]\n",
    "        \n",
    "        attention_scores = torch.matmul(query, key.transpose(-1, -2)) # [bsz, n_head, lq, lk]\n",
    "        attention_scores = attention_scores / math.sqrt(self.attention_head_size) # normalize\n",
    "\n",
    "        if attention_mask is not None: # mask attention\n",
    "            if attention_mask.dim() == 2:\n",
    "                attention_mask = attention_mask[:, None, None, :] # [bsz, 1, 1, lk]\n",
    "            if attention_mask.dim() == 3:\n",
    "                attention_mask = attention_mask[:, None, :, :] # [bsz, 1, lq, lk]\n",
    "            attention_scores = attention_scores.masked_fill(attention_mask, -1e9) # 让mask处为-inf，softmax后该位置就是0\n",
    "\n",
    "        attention_probs = nn.Softmax(dim=-1)(attention_scores)\n",
    "        attention_probs = self.dropout(attention_probs) # [bsz, n_head, lq, lk]，在attention map处做dropout\n",
    "\n",
    "        context = torch.matmul(attention_probs, value) # [bsz, n_head, lq, head_size] need lv == lk\n",
    "        context = context.permute(0, 2, 1, 3).contiguous() # [bsz, lq, n_head, head_size]\n",
    "\n",
    "        new_context_shape = context.size()[:-2] + (self.all_head_size,)\n",
    "        context = context.view(*new_context_shape) # [bsz, lq, dim_hidden]\n",
    "\n",
    "        return context, attention_probs\n",
    "\n",
    "\n",
    "class MultiHeadAttention(nn.Module): # 加入linear层和layer-norm\n",
    "    def __init__(self, hidden_size, num_heads, attn_dropout, dropout):\n",
    "        super().__init__()\n",
    "        self.SDPA = ScaledDotProductAttention(hidden_size, num_heads, attn_dropout)\n",
    "        self.dense = nn.Linear(hidden_size, hidden_size)\n",
    "        self.dropout = nn.Dropout(dropout)\n",
    "        self.LayerNorm = nn.LayerNorm(hidden_size)\n",
    "        \n",
    "    def forward(self, hidden_states, attention_mask=None):\n",
    "        q, k, v = hidden_states, hidden_states, hidden_states # 自注意力\n",
    "        context, attention_probs = self.SDPA(q, k, v, attention_mask)\n",
    "        context = self.dense(context)\n",
    "        context = self.dropout(context) # layer-norm前做dropout\n",
    "\n",
    "        hidden_states = self.LayerNorm(hidden_states + context)\n",
    "        return hidden_states, attention_probs\n",
    "\n",
    "\n",
    "class FeedForwardNetwork(nn.Module): # FFN（residual + MLP + layer-norm）\n",
    "    def __init__(self, hidden_size, intermediate_size, dropout=.0):\n",
    "        super().__init__()\n",
    "        self.net = nn.Sequential(\n",
    "            nn.Linear(hidden_size, intermediate_size),\n",
    "            nn.Dropout(dropout),\n",
    "            nn.ReLU(),\n",
    "            nn.Linear(intermediate_size, hidden_size),\n",
    "            nn.Dropout(dropout) \n",
    "        )\n",
    "        self.LN = nn.LayerNorm(hidden_size)\n",
    "    \n",
    "    def forward(self, x):\n",
    "        return self.LN(x + self.net(x)) # norm层一般都是放在dropout、residual等计算完了再\n",
    "\n",
    "\n",
    "class TransformerEncoderLayer(nn.Module):\n",
    "    def __init__(self, hidden_size, num_heads, intermediate_size, attn_dropout=.0, dropout=.0):\n",
    "        super().__init__()\n",
    "        self.mha = MultiHeadAttention(hidden_size, num_heads, attn_dropout, dropout)\n",
    "        self.ffn = FeedForwardNetwork(hidden_size, intermediate_size, dropout)\n",
    "    \n",
    "    def forward(self, hidden_states, attention_mask):\n",
    "        hidden_states, _ = self.mha(hidden_states, attention_mask)\n",
    "        hidden_states = self.ffn(hidden_states)\n",
    "        return hidden_states\n",
    "\n",
    "\n",
    "class TransformerEncoder(nn.Module):\n",
    "    def __init__(self, hidden_size, num_layers, num_heads, intermediate_size, attn_dropout=.0, dropout=.0):\n",
    "        super().__init__()\n",
    "        self.layers = nn.ModuleList([\n",
    "            TransformerEncoderLayer(hidden_size, num_heads, intermediate_size, attn_dropout, dropout)\n",
    "            for _ in range(num_layers)\n",
    "        ])\n",
    "\n",
    "    def forward(self, x, attn_mask):\n",
    "        for layer in self.layers: # self-attention是同质结构，输入输出同shape，直接for就好\n",
    "            x = layer(x, attn_mask)\n",
    "        return x"
   ]
  },
  {
   "cell_type": "markdown",
   "metadata": {
    "datalore": {
     "hide_input_from_viewers": false,
     "hide_output_from_viewers": false,
     "type": "MD"
    }
   },
   "source": [
    "### 3.5.3 模型定义"
   ]
  },
  {
   "cell_type": "code",
   "execution_count": 18,
   "metadata": {
    "datalore": {
     "hide_input_from_viewers": false,
     "hide_output_from_viewers": false,
     "type": "CODE"
    }
   },
   "outputs": [],
   "source": [
    "class TFModel(nn.Module):\n",
    "    def __init__(self, \n",
    "            vocab_size, \n",
    "            hidden_size, \n",
    "            max_len, \n",
    "            pad_index, \n",
    "            num_class=2, \n",
    "            num_heads=4, \n",
    "            num_layers=1, \n",
    "            dropout=0.0, \n",
    "            attn_dropout=0.0,\n",
    "            load_glove=False\n",
    "    ):\n",
    "        super().__init__()\n",
    "        self.word_embs = nn.Embedding(vocab_size + 1, hidden_size, padding_idx=pad_index) # vocab-size +1 的+1是因为加了个<cls> token <pad>token在输入vocab-size的时候就加进去了\n",
    "        self.position_embs = nn.Embedding(max_len+1, hidden_size) # 采用可学习的位置编码\n",
    "\n",
    "        self.net = TransformerEncoder(\n",
    "            hidden_size, \n",
    "            num_layers, \n",
    "            num_heads, \n",
    "            4 * hidden_size, \n",
    "            attn_dropout, \n",
    "            dropout\n",
    "        )\n",
    "\n",
    "        self.dropout = nn.Dropout(dropout)\n",
    "        self.prj = nn.Linear(hidden_size, num_class)\n",
    "\n",
    "        self.cls_index = vocab_size \n",
    "        self.pad_index = pad_index\n",
    "        # print(self.cls_index,self.pad_index)\n",
    "\n",
    "        if load_glove:\n",
    "            model_path = './model_vocab_glove/model.pth'\n",
    "            with open(model_path,'rb') as f:\n",
    "                glove = torch.load(f)\n",
    "                self.word_embs.weight.data[:-2,:] = glove.context.weight.data + glove.center.weight.data\n",
    "                print((glove.context.weight.data + glove.center.weight.data)[:2,:])\n",
    "        else:\n",
    "            nn.init.normal_(self.word_embs.weight, std=.02)\n",
    "        nn.init.normal_(self.position_embs.weight, std=.02)\n",
    "        self.apply(self._init_weights)\n",
    "\n",
    "    def _init_weights(self, m):\n",
    "        if isinstance(m, nn.Linear):\n",
    "            nn.init.normal_(m.weight, std=.02)\n",
    "            if isinstance(m, nn.Linear) and m.bias is not None:\n",
    "                nn.init.constant_(m.bias, 0)\n",
    "        elif isinstance(m, nn.LayerNorm): # element-wise-affine的参数指定，这样指定为identity变化\n",
    "            nn.init.constant_(m.bias, 0)\n",
    "            nn.init.constant_(m.weight, 1.0)\n",
    "        \n",
    "    def forward(self, input_ids):\n",
    "        batch_size, device = input_ids.size(0), input_ids.device\n",
    "        cls_tokens = torch.zeros((batch_size, 1)).to(input_ids.device) + self.cls_index\n",
    "        cls_tokens = cls_tokens.long()\n",
    "        input_ids = torch.cat((cls_tokens, input_ids), dim=1)\n",
    "\n",
    "        embs = self.word_embs(input_ids)\n",
    "        \n",
    "        seq_len = embs.size(1)\n",
    "        position_ids = torch.arange(seq_len, dtype=torch.long, device=device) \n",
    "        position_ids = position_ids[None, :]\n",
    "        position_embs = self.position_embs(position_ids)\n",
    "\n",
    "        embs = embs + position_embs # 加上位置编码\n",
    "        embs = self.dropout(embs)\n",
    "        \n",
    "        attention_mask = (input_ids == self.pad_index) # (batch_size, seq_len)，padding token不要计算注意力，所以mask掉\n",
    "        hidden_states = self.net(embs, attention_mask)\n",
    "        \n",
    "        cls_hidden_state = hidden_states[:, 0, :]\n",
    "        cls_hidden_state = self.dropout(cls_hidden_state)\n",
    "        \n",
    "        output = self.prj(cls_hidden_state)\n",
    "        output = F.log_softmax(output, dim=-1)\n",
    "        \n",
    "        return output\n",
    "    "
   ]
  },
  {
   "cell_type": "markdown",
   "metadata": {
    "datalore": {
     "hide_input_from_viewers": false,
     "hide_output_from_viewers": false,
     "type": "MD"
    }
   },
   "source": [
    "### 3.5.4 运行"
   ]
  },
  {
   "cell_type": "code",
   "execution_count": 19,
   "metadata": {
    "datalore": {
     "hide_input_from_viewers": false,
     "hide_output_from_viewers": false,
     "type": "CODE"
    }
   },
   "outputs": [
    {
     "name": "stdout",
     "output_type": "stream",
     "text": [
      "TFModel(\n",
      "  (word_embs): Embedding(6692, 16, padding_idx=6690)\n",
      "  (position_embs): Embedding(101, 16)\n",
      "  (net): TransformerEncoder(\n",
      "    (layers): ModuleList(\n",
      "      (0): TransformerEncoderLayer(\n",
      "        (mha): MultiHeadAttention(\n",
      "          (SDPA): ScaledDotProductAttention(\n",
      "            (query): Linear(in_features=16, out_features=16, bias=True)\n",
      "            (key): Linear(in_features=16, out_features=16, bias=True)\n",
      "            (value): Linear(in_features=16, out_features=16, bias=True)\n",
      "            (dropout): Dropout(p=0.1, inplace=False)\n",
      "          )\n",
      "          (dense): Linear(in_features=16, out_features=16, bias=True)\n",
      "          (dropout): Dropout(p=0.3, inplace=False)\n",
      "          (LayerNorm): LayerNorm((16,), eps=1e-05, elementwise_affine=True)\n",
      "        )\n",
      "        (ffn): FeedForwardNetwork(\n",
      "          (net): Sequential(\n",
      "            (0): Linear(in_features=16, out_features=64, bias=True)\n",
      "            (1): Dropout(p=0.3, inplace=False)\n",
      "            (2): ReLU()\n",
      "            (3): Linear(in_features=64, out_features=16, bias=True)\n",
      "            (4): Dropout(p=0.3, inplace=False)\n",
      "          )\n",
      "          (LN): LayerNorm((16,), eps=1e-05, elementwise_affine=True)\n",
      "        )\n",
      "      )\n",
      "    )\n",
      "  )\n",
      "  (dropout): Dropout(p=0.3, inplace=False)\n",
      "  (prj): Linear(in_features=16, out_features=2, bias=True)\n",
      ")\n",
      "第0轮，训练集损失：0.69, 训练集准确率：0.54, 验证集损失：0.68, 验证集准确率: 0.57\n",
      "第1轮，训练集损失：0.62, 训练集准确率：0.66, 验证集损失：0.43, 验证集准确率: 0.83\n",
      "第2轮，训练集损失：0.32, 训练集准确率：0.90, 验证集损失：0.40, 验证集准确率: 0.84\n",
      "第3轮，训练集损失：0.16, 训练集准确率：0.96, 验证集损失：0.41, 验证集准确率: 0.86\n",
      "第4轮，训练集损失：0.10, 训练集准确率：0.98, 验证集损失：0.67, 验证集准确率: 0.82\n",
      "第5轮，训练集损失：0.06, 训练集准确率：0.99, 验证集损失：0.58, 验证集准确率: 0.85\n",
      "第6轮，训练集损失：0.04, 训练集准确率：0.99, 验证集损失：0.61, 验证集准确率: 0.87\n",
      "第7轮，训练集损失：0.03, 训练集准确率：1.00, 验证集损失：0.67, 验证集准确率: 0.86\n",
      "第8轮，训练集损失：0.03, 训练集准确率：1.00, 验证集损失：0.71, 验证集准确率: 0.87\n",
      "第9轮，训练集损失：0.02, 训练集准确率：1.00, 验证集损失：0.70, 验证集准确率: 0.87\n",
      "第10轮，训练集损失：0.03, 训练集准确率：1.00, 验证集损失：0.70, 验证集准确率: 0.87\n",
      "第11轮，训练集损失：0.03, 训练集准确率：1.00, 验证集损失：0.72, 验证集准确率: 0.87\n",
      "第12轮，训练集损失：0.02, 训练集准确率：1.00, 验证集损失：0.72, 验证集准确率: 0.87\n",
      "第13轮，训练集损失：0.02, 训练集准确率：1.00, 验证集损失：0.73, 验证集准确率: 0.86\n",
      "第14轮，训练集损失：0.02, 训练集准确率：1.00, 验证集损失：0.73, 验证集准确率: 0.86\n",
      "第15轮，训练集损失：0.03, 训练集准确率：1.00, 验证集损失：0.73, 验证集准确率: 0.86\n",
      "第16轮，训练集损失：0.03, 训练集准确率：1.00, 验证集损失：0.73, 验证集准确率: 0.86\n",
      "第17轮，训练集损失：0.02, 训练集准确率：1.00, 验证集损失：0.73, 验证集准确率: 0.86\n",
      "第18轮，训练集损失：0.02, 训练集准确率：1.00, 验证集损失：0.73, 验证集准确率: 0.86\n",
      "第19轮，训练集损失：0.02, 训练集准确率：1.00, 验证集损失：0.73, 验证集准确率: 0.86\n",
      "第20轮，训练集损失：0.02, 训练集准确率：1.00, 验证集损失：0.73, 验证集准确率: 0.86\n",
      "第21轮，训练集损失：0.02, 训练集准确率：1.00, 验证集损失：0.73, 验证集准确率: 0.86\n",
      "第22轮，训练集损失：0.02, 训练集准确率：1.00, 验证集损失：0.73, 验证集准确率: 0.86\n",
      "第23轮，训练集损失：0.02, 训练集准确率：1.00, 验证集损失：0.73, 验证集准确率: 0.86\n",
      "第24轮，训练集损失：0.03, 训练集准确率：1.00, 验证集损失：0.73, 验证集准确率: 0.86\n",
      "第25轮，训练集损失：0.02, 训练集准确率：1.00, 验证集损失：0.73, 验证集准确率: 0.86\n",
      "第26轮，训练集损失：0.02, 训练集准确率：1.00, 验证集损失：0.73, 验证集准确率: 0.86\n",
      "第27轮，训练集损失：0.02, 训练集准确率：1.00, 验证集损失：0.73, 验证集准确率: 0.86\n",
      "第28轮，训练集损失：0.02, 训练集准确率：1.00, 验证集损失：0.73, 验证集准确率: 0.86\n",
      "第29轮，训练集损失：0.02, 训练集准确率：1.00, 验证集损失：0.73, 验证集准确率: 0.86\n",
      "测试集正确率： 0.8747044917257684\n"
     ]
    }
   ],
   "source": [
    "# 参数\n",
    "num_epochs = 30\n",
    "learning_rate = 0.005\n",
    "batch_size = 128\n",
    "vocab_size = len(vocab)+1 # +1是因为<pad> token\n",
    "hidden_size = 16\n",
    "num_heads = 4\n",
    "num_layers = 1\n",
    "attn_dropout = 0.1\n",
    "dropout = 0.3\n",
    "\n",
    "data['max_len'] = 100\n",
    "\n",
    "# 运行的设备\n",
    "if torch.cuda.is_available():\n",
    "    device = torch.device('cuda')\n",
    "else:\n",
    "    device = torch.device('cpu')\n",
    "\n",
    "# 数据加载器\n",
    "train_loader, vali_loader, test_loader = get_loader(data, split, batch_size=batch_size, class_func=MyDataset)\n",
    "# 模型实例化\n",
    "model = TFModel(\n",
    "    vocab_size,\n",
    "    hidden_size, \n",
    "    data['max_len'],\n",
    "    pad_index=train_loader.dataset.get_pad_index(), \n",
    "    num_heads=num_heads,\n",
    "    num_layers=num_layers,\n",
    "    attn_dropout=attn_dropout,\n",
    "    dropout=dropout\n",
    ")\n",
    "# 打印模型\n",
    "print(model)\n",
    "# 损失函数 -- 交叉熵\n",
    "crit = torch.nn.NLLLoss()\n",
    "# 优化方法\n",
    "optimizer = torch.optim.Adam(model.parameters(), lr=learning_rate)\n",
    "scheduler = torch.optim.lr_scheduler.ReduceLROnPlateau(optimizer, mode='min', factor=0.1, patience=5, min_lr=1e-6)\n",
    "\n",
    "records = []\n",
    "best_val_acc = 0.\n",
    "for epoch in range(num_epochs):\n",
    "    # 训练\n",
    "    train_loss, train_acc = training(model, train_loader, crit, optimizer, device)\n",
    "    # 验证\n",
    "    vali_loss, vali_acc = evaluate(model, vali_loader, crit, device)\n",
    "\n",
    "    scheduler.step(vali_loss)\n",
    "    # 打印消息\n",
    "    print('第{}轮，训练集损失：{:.2f}, 训练集准确率：{:.2f}, 验证集损失：{:.2f}, 验证集准确率: {:.2f}'.format(\n",
    "        epoch, train_loss, train_acc, vali_loss, vali_acc))\n",
    "    # 储存信息以便可视化\n",
    "    records.append([train_loss, train_acc, vali_loss, vali_acc,optimizer.param_groups[0]['lr']])\n",
    "    best_val_acc = max(best_val_acc,vali_acc)\n",
    "    if best_val_acc == vali_acc:\n",
    "        best_val_model = model\n",
    "# 测试\n",
    "_, test_acc = evaluate(best_val_model, test_loader, crit, device)\n",
    "print('测试集正确率：', test_acc)"
   ]
  },
  {
   "cell_type": "markdown",
   "metadata": {
    "datalore": {
     "hide_input_from_viewers": false,
     "hide_output_from_viewers": false,
     "type": "MD"
    }
   },
   "source": [
    "### 3.5.5 训练过程损失&准确率的变化"
   ]
  },
  {
   "cell_type": "code",
   "execution_count": 20,
   "metadata": {
    "datalore": {
     "hide_input_from_viewers": false,
     "hide_output_from_viewers": false,
     "type": "CODE"
    }
   },
   "outputs": [
    {
     "data": {
      "image/png": "[encoded data removed]",
      "text/plain": [
       "<Figure size 1600x1000 with 2 Axes>"
      ]
     },
     "metadata": {},
     "output_type": "display_data"
    }
   ],
   "source": [
    "# 绘制误差曲线\n",
    "plt.figure(figsize=(16,10))\n",
    "plt.subplot(1,2,1)\n",
    "plt.plot([i[0] for i in records], label = 'Train Loss')\n",
    "plt.plot([i[1] for i in records], label = 'Train Accuracy')\n",
    "plt.plot([i[2] for i in records], label = 'Valid Loss')\n",
    "plt.plot([i[3] for i in records], label = 'Valid Accuracy')\n",
    "plt.xlabel('Epoch')\n",
    "plt.ylabel('Loss & Accuracy')\n",
    "plt.subplot(1,2,2)\n",
    "plt.plot([i[4] for i in records],label='lr')\n",
    "plt.legend()\n",
    "plt.show()"
   ]
  },
  {
   "cell_type": "markdown",
   "metadata": {},
   "source": [
    "### 3.5.6 加载Glove预训练模型"
   ]
  },
  {
   "cell_type": "code",
   "execution_count": 21,
   "metadata": {},
   "outputs": [],
   "source": [
    "def init_weights(m,mode='zero'):\n",
    "    if type(m) == nn.Embedding:\n",
    "        if mode =='xavier':\n",
    "            nn.init.xavier_normal_(m.weight)\n",
    "        else:\n",
    "            nn.init.zeros_(m.weight)\n",
    "\n",
    "class GloVe(nn.Module):\n",
    "    def __init__(self,vocab_size,embedding_size) -> None:\n",
    "        super(GloVe,self).__init__()\n",
    "        self.context = nn.Embedding(vocab_size,embedding_size)\n",
    "        self.center = nn.Embedding(vocab_size,embedding_size)\n",
    "        self.context_bias = nn.Embedding(vocab_size,1)\n",
    "        self.center_bias = nn.Embedding(vocab_size,1)\n",
    "        init_weights(self.context,mode='xavier')\n",
    "        init_weights(self.center,mode='xavier')\n",
    "        init_weights(self.center_bias)\n",
    "        init_weights(self.context_bias)\n",
    "\n",
    "    \n",
    "    def forward(self,center, all_contexts): # input.shape: B,N,vocab_size\n",
    "        bs,max_len = all_contexts.shape\n",
    "        contexts = self.context(all_contexts) # shape (B,N_context,embedding_size)\n",
    "        centers = self.center(center) # shape (B,1,embedding_size)\n",
    "        contexts_bias = self.context_bias(all_contexts) # shape (B,N_context,1)\n",
    "        centers_bias = self.center_bias(center) # shape (B,1,1)\n",
    "        similarity = centers @ contexts.transpose(1,2) # shape:[B,1,N_context]\n",
    "        similarity = similarity.reshape(bs,max_len)\n",
    "        centers_bias = centers_bias.reshape(bs,1)\n",
    "        contexts_bias = contexts_bias.reshape(bs,max_len)\n",
    "        output = contexts_bias + similarity + centers_bias\n",
    "        return output"
   ]
  },
  {
   "cell_type": "code",
   "execution_count": 22,
   "metadata": {
    "datalore": {
     "hide_input_from_viewers": false,
     "hide_output_from_viewers": false,
     "type": "CODE"
    }
   },
   "outputs": [
    {
     "name": "stdout",
     "output_type": "stream",
     "text": [
      "finish loading vocabulary\n",
      "finish loading vocabulary\n",
      "finish loading vocabulary\n",
      "tensor([[-0.9399,  1.4614, -1.3322, -0.1741, -1.4984, -1.7529, -1.4392,  4.0450,\n",
      "         -0.7645, -0.5165,  2.4163, -1.2320,  1.5399, -2.7519,  1.7697, -1.9805],\n",
      "        [-1.9900,  2.2208, -0.8959, -1.8451, -0.3068, -2.5838, -1.4648,  2.4096,\n",
      "         -0.6057, -1.3303,  0.9983, -1.3355,  0.4345, -1.4977,  1.5219, -0.8654]],\n",
      "       device='cuda:0')\n",
      "tensor([[-0.9399,  1.4614, -1.3322, -0.1741, -1.4984, -1.7529, -1.4392,  4.0450,\n",
      "         -0.7645, -0.5165,  2.4163, -1.2320,  1.5399, -2.7519,  1.7697, -1.9805],\n",
      "        [-1.9900,  2.2208, -0.8959, -1.8451, -0.3068, -2.5838, -1.4648,  2.4096,\n",
      "         -0.6057, -1.3303,  0.9983, -1.3355,  0.4345, -1.4977,  1.5219, -0.8654]])\n",
      "第0轮，训练集损失：0.69, 训练集准确率：0.55, 验证集损失：0.67, 验证集准确率: 0.57\n",
      "第1轮，训练集损失：0.66, 训练集准确率：0.62, 验证集损失：0.60, 验证集准确率: 0.70\n",
      "第2轮，训练集损失：0.60, 训练集准确率：0.69, 验证集损失：0.58, 验证集准确率: 0.70\n",
      "第3轮，训练集损失：0.57, 训练集准确率：0.72, 验证集损失：0.52, 验证集准确率: 0.74\n",
      "第4轮，训练集损失：0.49, 训练集准确率：0.77, 验证集损失：0.48, 验证集准确率: 0.78\n",
      "第5轮，训练集损失：0.40, 训练集准确率：0.83, 验证集损失：0.37, 验证集准确率: 0.84\n",
      "第6轮，训练集损失：0.31, 训练集准确率：0.89, 验证集损失：0.36, 验证集准确率: 0.85\n",
      "第7轮，训练集损失：0.18, 训练集准确率：0.94, 验证集损失：0.40, 验证集准确率: 0.88\n",
      "第8轮，训练集损失：0.13, 训练集准确率：0.97, 验证集损失：0.49, 验证集准确率: 0.87\n",
      "第9轮，训练集损失：0.10, 训练集准确率：0.98, 验证集损失：0.51, 验证集准确率: 0.87\n",
      "第10轮，训练集损失：0.08, 训练集准确率：0.98, 验证集损失：0.90, 验证集准确率: 0.79\n",
      "第11轮，训练集损失：0.06, 训练集准确率：0.99, 验证集损失：0.61, 验证集准确率: 0.87\n",
      "第12轮，训练集损失：0.05, 训练集准确率：0.99, 验证集损失：0.65, 验证集准确率: 0.86\n",
      "第13轮，训练集损失：0.04, 训练集准确率：0.99, 验证集损失：0.65, 验证集准确率: 0.86\n",
      "第14轮，训练集损失：0.04, 训练集准确率：0.99, 验证集损失：0.71, 验证集准确率: 0.86\n",
      "第15轮，训练集损失：0.04, 训练集准确率：0.99, 验证集损失：0.76, 验证集准确率: 0.84\n",
      "第16轮，训练集损失：0.04, 训练集准确率：0.99, 验证集损失：0.73, 验证集准确率: 0.85\n",
      "第17轮，训练集损失：0.05, 训练集准确率：0.99, 验证集损失：0.73, 验证集准确率: 0.85\n",
      "第18轮，训练集损失：0.04, 训练集准确率：0.99, 验证集损失：0.70, 验证集准确率: 0.86\n",
      "第19轮，训练集损失：0.04, 训练集准确率：0.99, 验证集损失：0.70, 验证集准确率: 0.86\n",
      "第20轮，训练集损失：0.04, 训练集准确率：0.99, 验证集损失：0.70, 验证集准确率: 0.86\n",
      "第21轮，训练集损失：0.05, 训练集准确率：0.99, 验证集损失：0.70, 验证集准确率: 0.86\n",
      "第22轮，训练集损失：0.04, 训练集准确率：0.99, 验证集损失：0.71, 验证集准确率: 0.86\n",
      "第23轮，训练集损失：0.04, 训练集准确率：0.99, 验证集损失：0.71, 验证集准确率: 0.86\n",
      "第24轮，训练集损失：0.03, 训练集准确率：1.00, 验证集损失：0.72, 验证集准确率: 0.85\n",
      "第25轮，训练集损失：0.03, 训练集准确率：0.99, 验证集损失：0.72, 验证集准确率: 0.85\n",
      "第26轮，训练集损失：0.04, 训练集准确率：0.99, 验证集损失：0.72, 验证集准确率: 0.85\n",
      "第27轮，训练集损失：0.04, 训练集准确率：0.99, 验证集损失：0.72, 验证集准确率: 0.85\n",
      "第28轮，训练集损失：0.03, 训练集准确率：0.99, 验证集损失：0.72, 验证集准确率: 0.85\n",
      "第29轮，训练集损失：0.04, 训练集准确率：0.99, 验证集损失：0.72, 验证集准确率: 0.85\n",
      "测试集正确率： 0.8628841607565012\n"
     ]
    }
   ],
   "source": [
    "# 参数\n",
    "num_epochs = 30\n",
    "learning_rate = 0.005\n",
    "batch_size = 128\n",
    "vocab_size = len(vocab)+1 # +1是因为<pad> token\n",
    "hidden_size = 16\n",
    "num_heads = 4\n",
    "num_layers = 1\n",
    "attn_dropout = 0.1\n",
    "dropout = 0.3\n",
    "\n",
    "data['max_len'] = 100\n",
    "\n",
    "# 运行的设备\n",
    "if torch.cuda.is_available():\n",
    "    device = torch.device('cuda')\n",
    "else:\n",
    "    device = torch.device('cpu')\n",
    "\n",
    "# 数据加载器\n",
    "train_loader, vali_loader, test_loader = get_loader(data, split, batch_size=batch_size, class_func=MyDataset,load_tag=True)\n",
    "# 模型实例化\n",
    "model = TFModel(\n",
    "    vocab_size,\n",
    "    hidden_size, \n",
    "    data['max_len'],\n",
    "    pad_index=train_loader.dataset.get_pad_index(), \n",
    "    num_heads=num_heads,\n",
    "    num_layers=num_layers,\n",
    "    attn_dropout=attn_dropout,\n",
    "    dropout=dropout,\n",
    "    load_glove=True\n",
    ")\n",
    "print(model.word_embs.weight.data[:2,:])\n",
    "# 打印模型\n",
    "# print(model)\n",
    "# 损失函数 -- 交叉熵\n",
    "crit = torch.nn.NLLLoss()\n",
    "# 优化方法\n",
    "optimizer = torch.optim.Adam(model.parameters(), lr=learning_rate)\n",
    "scheduler = torch.optim.lr_scheduler.ReduceLROnPlateau(optimizer, mode='min', factor=0.1, patience=5, min_lr=1e-6)\n",
    "\n",
    "records = []\n",
    "best_val_acc = 0.\n",
    "for epoch in range(num_epochs):\n",
    "    # 训练\n",
    "    train_loss, train_acc = training(model, train_loader, crit, optimizer, device)\n",
    "    # 验证\n",
    "    vali_loss, vali_acc = evaluate(model, vali_loader, crit, device)\n",
    "\n",
    "    scheduler.step(vali_loss)\n",
    "    # 打印消息\n",
    "    print('第{}轮，训练集损失：{:.2f}, 训练集准确率：{:.2f}, 验证集损失：{:.2f}, 验证集准确率: {:.2f}'.format(\n",
    "        epoch, train_loss, train_acc, vali_loss, vali_acc))\n",
    "    # 储存信息以便可视化\n",
    "    records.append([train_loss, train_acc, vali_loss, vali_acc,optimizer.param_groups[0]['lr']])\n",
    "    best_val_acc = max(best_val_acc,vali_acc)\n",
    "    if best_val_acc == vali_acc:\n",
    "            best_val_model = model\n",
    "# 测试\n",
    "_, test_acc = evaluate(best_val_model, test_loader, crit, device)\n",
    "print('测试集正确率：', test_acc)"
   ]
  },
  {
   "cell_type": "code",
   "execution_count": 23,
   "metadata": {},
   "outputs": [
    {
     "data": {
      "image/png": "[encoded data removed]",
      "text/plain": [
       "<Figure size 1600x1000 with 2 Axes>"
      ]
     },
     "metadata": {},
     "output_type": "display_data"
    }
   ],
   "source": [
    "# 绘制误差曲线\n",
    "plt.figure(figsize=(16,10))\n",
    "plt.subplot(1,2,1)\n",
    "plt.plot([i[0] for i in records], label = 'Train Loss')\n",
    "plt.plot([i[1] for i in records], label = 'Train Accuracy')\n",
    "plt.plot([i[2] for i in records], label = 'Valid Loss')\n",
    "plt.plot([i[3] for i in records], label = 'Valid Accuracy')\n",
    "plt.xlabel('Epoch')\n",
    "plt.ylabel('Loss & Accuracy')\n",
    "plt.subplot(1,2,2)\n",
    "plt.plot([i[4] for i in records],label='lr')\n",
    "plt.legend()\n",
    "plt.show()"
   ]
  },
  {
   "cell_type": "code",
   "execution_count": 24,
   "metadata": {},
   "outputs": [],
   "source": [
    "class Pretrainedembs_MLP(nn.Module):\n",
    "    def __init__(self,embs_size,vocab_size,pad_index,dropout,use_distance_weight=False):\n",
    "        super().__init__()\n",
    "        self.word_embs = nn.Embedding(vocab_size,embs_size)\n",
    "        self.mlp = nn.Sequential(\n",
    "            # nn.Conv1d(embs_size,embs_size,1,1,0),\n",
    "            nn.ReLU(),\n",
    "            nn.Dropout(dropout),\n",
    "            nn.Conv1d(embs_size,2,1,1,0)\n",
    "        )\n",
    "        self.pad_index = pad_index\n",
    "        self.GAP = nn.AdaptiveAvgPool1d(1)\n",
    "        if not use_distance_weight:\n",
    "            model_path = f'./model_vocab_glove_for_mlp/model_{embs_size}.pth'\n",
    "            with open(model_path,'rb') as f:\n",
    "                glove = torch.load(f)\n",
    "            self.word_embs.weight.data[:-1,:] = glove.context.weight.data + glove.center.weight.data\n",
    "        else:\n",
    "            glove_path = f'./model_vocab_glove_for_mlp_dw/model_{embs_size}.pth'\n",
    "            with open(glove_path,'rb') as f:\n",
    "                glove = torch.load(f)\n",
    "            self.word_embs.weight.data[:-1,:] = glove.context.weight.data + glove.center.weight.data\n",
    "    \n",
    "    def forward(self,x,log_softmax=True):\n",
    "        bs = x.shape[0]\n",
    "        pad_mask = x!=self.pad_index\n",
    "        embed = self.word_embs(x)\n",
    "        embed = embed.permute(0,2,1).contiguous()\n",
    "        cls = self.GAP(self.mlp(embed)*pad_mask[:,None,:]).view(bs,2)\n",
    "        if log_softmax:\n",
    "            cls = F.log_softmax(cls,dim=1)\n",
    "        return cls\n",
    "    "
   ]
  },
  {
   "cell_type": "code",
   "execution_count": 25,
   "metadata": {},
   "outputs": [],
   "source": [
    "class Model_Ensemble(nn.Module):\n",
    "    def __init__(self,models):\n",
    "        super().__init__()\n",
    "        self.model_lst = models\n",
    "        self.linear_weight = nn.Linear(2*len(self.model_lst),2,bias=False)\n",
    "    def forward(self,x):\n",
    "        bs = x.shape[0]\n",
    "        scores = []\n",
    "        for model in self.model_lst:\n",
    "            model.eval()\n",
    "            scores.append(model(x,log_softmax=False))\n",
    "        finale_score = self.linear_weight(torch.cat(scores,dim=1))\n",
    "        return finale_score"
   ]
  },
  {
   "cell_type": "code",
   "execution_count": 26,
   "metadata": {},
   "outputs": [
    {
     "name": "stdout",
     "output_type": "stream",
     "text": [
      "finish loading vocabulary\n",
      "finish loading vocabulary\n",
      "finish loading vocabulary\n",
      "dim: 32 模型的测试集正确率： 0.8569739952718676\n",
      "dim: 64 模型的测试集正确率： 0.8723404255319149\n",
      "dim: 96 模型的测试集正确率： 0.8628841607565012\n",
      "dim: 16 模型的测试集正确率： 0.8368794326241135\n",
      "第0轮，训练集损失：0.28, 训练集准确率：0.99, 验证集损失：0.33, 验证集准确率: 0.87\n",
      "第1轮，训练集损失：0.14, 训练集准确率：0.99, 验证集损失：0.30, 验证集准确率: 0.87\n",
      "第2轮，训练集损失：0.10, 训练集准确率：0.99, 验证集损失：0.30, 验证集准确率: 0.88\n",
      "第3轮，训练集损失：0.08, 训练集准确率：0.99, 验证集损失：0.30, 验证集准确率: 0.88\n",
      "第4轮，训练集损失：0.08, 训练集准确率：0.99, 验证集损失：0.30, 验证集准确率: 0.87\n",
      "第5轮，训练集损失：0.07, 训练集准确率：0.99, 验证集损失：0.31, 验证集准确率: 0.88\n",
      "第6轮，训练集损失：0.07, 训练集准确率：0.99, 验证集损失：0.31, 验证集准确率: 0.88\n",
      "第7轮，训练集损失：0.07, 训练集准确率：0.99, 验证集损失：0.31, 验证集准确率: 0.88\n",
      "第8轮，训练集损失：0.06, 训练集准确率：0.99, 验证集损失：0.32, 验证集准确率: 0.88\n",
      "第9轮，训练集损失：0.06, 训练集准确率：0.99, 验证集损失：0.32, 验证集准确率: 0.88\n",
      "第10轮，训练集损失：0.06, 训练集准确率：0.99, 验证集损失：0.32, 验证集准确率: 0.88\n",
      "第11轮，训练集损失：0.06, 训练集准确率：0.99, 验证集损失：0.33, 验证集准确率: 0.88\n",
      "第12轮，训练集损失：0.06, 训练集准确率：0.99, 验证集损失：0.33, 验证集准确率: 0.88\n",
      "第13轮，训练集损失：0.05, 训练集准确率：0.99, 验证集损失：0.33, 验证集准确率: 0.88\n",
      "第14轮，训练集损失：0.05, 训练集准确率：0.99, 验证集损失：0.34, 验证集准确率: 0.88\n",
      "第15轮，训练集损失：0.05, 训练集准确率：0.99, 验证集损失：0.34, 验证集准确率: 0.88\n",
      "第16轮，训练集损失：0.05, 训练集准确率：0.99, 验证集损失：0.34, 验证集准确率: 0.88\n",
      "第17轮，训练集损失：0.05, 训练集准确率：0.99, 验证集损失：0.35, 验证集准确率: 0.88\n",
      "第18轮，训练集损失：0.05, 训练集准确率：0.99, 验证集损失：0.35, 验证集准确率: 0.88\n",
      "第19轮，训练集损失：0.05, 训练集准确率：0.99, 验证集损失：0.35, 验证集准确率: 0.88\n",
      "第20轮，训练集损失：0.05, 训练集准确率：0.99, 验证集损失：0.36, 验证集准确率: 0.88\n",
      "第21轮，训练集损失：0.05, 训练集准确率：0.99, 验证集损失：0.36, 验证集准确率: 0.88\n",
      "第22轮，训练集损失：0.05, 训练集准确率：0.99, 验证集损失：0.36, 验证集准确率: 0.88\n",
      "第23轮，训练集损失：0.05, 训练集准确率：0.99, 验证集损失：0.36, 验证集准确率: 0.88\n",
      "第24轮，训练集损失：0.05, 训练集准确率：0.99, 验证集损失：0.37, 验证集准确率: 0.88\n",
      "第25轮，训练集损失：0.05, 训练集准确率：0.99, 验证集损失：0.37, 验证集准确率: 0.88\n",
      "第26轮，训练集损失：0.05, 训练集准确率：0.99, 验证集损失：0.37, 验证集准确率: 0.88\n",
      "第27轮，训练集损失：0.04, 训练集准确率：0.99, 验证集损失：0.37, 验证集准确率: 0.88\n",
      "第28轮，训练集损失：0.04, 训练集准确率：0.99, 验证集损失：0.37, 验证集准确率: 0.88\n",
      "第29轮，训练集损失：0.04, 训练集准确率：0.99, 验证集损失：0.38, 验证集准确率: 0.88\n",
      "0.8687943262411347\n"
     ]
    }
   ],
   "source": [
    "# 参数\n",
    "num_epochs = 30\n",
    "learning_rate = 0.005\n",
    "batch_size = 128\n",
    "vocab_size = len(vocab)+1 # +1是因为<pad> token\n",
    "\n",
    "data['max_len'] = 100\n",
    "\n",
    "pairs = [(32,0.),(64,0.),(96,0.6),(16,0)]\n",
    "\n",
    "# 运行的设备\n",
    "if torch.cuda.is_available():\n",
    "    device = torch.device('cuda')\n",
    "else:\n",
    "    device = torch.device('cpu')\n",
    "\n",
    "# 数据加载器\n",
    "train_loader, vali_loader, test_loader = get_loader(data, split, batch_size=batch_size, class_func=MyDataset,load_tag=True)\n",
    "model_lst = []\n",
    "# 模型实例化\n",
    "for embs_size,dropout in pairs:\n",
    "    model = Pretrainedembs_MLP(embs_size,vocab_size,pad_index = train_loader.dataset.get_pad_index(),dropout=dropout,use_distance_weight=False)\n",
    "    # print(model.word_embs.weight.data[:2,:])\n",
    "    # 打印模型\n",
    "    # print(model)\n",
    "    # 损失函数 -- 交叉熵\n",
    "    crit = torch.nn.NLLLoss()\n",
    "    # 优化方法\n",
    "    optimizer = torch.optim.Adam(model.parameters(), lr=learning_rate)\n",
    "    # scheduler = torch.optim.lr_scheduler.ReduceLROnPlateau(optimizer, mode='min', factor=0.1, patience=5, min_lr=1e-6)\n",
    "\n",
    "    records = []\n",
    "    best_val_acc = 0.\n",
    "    for epoch in range(num_epochs):\n",
    "        # 训练\n",
    "        train_loss, train_acc = training(model, train_loader, crit, optimizer, device)\n",
    "        # 验证\n",
    "        vali_loss, vali_acc = evaluate(model, vali_loader, crit, device)\n",
    "\n",
    "        # scheduler.step(vali_loss)\n",
    "\n",
    "        # 储存信息以便可视化\n",
    "        records.append([train_loss, train_acc, vali_loss, vali_acc,optimizer.param_groups[0]['lr']])\n",
    "        best_val_acc = max(best_val_acc,vali_acc)\n",
    "        if best_val_acc == vali_acc:\n",
    "                best_val_model = model\n",
    "    # 测试\n",
    "    _, test_acc = evaluate(best_val_model, test_loader, crit, device)\n",
    "    print(f'dim: {embs_size} 模型的测试集正确率：', test_acc)\n",
    "    model_lst.append(best_val_model)\n",
    "ensemble_model = Model_Ensemble(model_lst)\n",
    "w_optimizer = torch.optim.Adam(ensemble_model.linear_weight.parameters(),lr=learning_rate)\n",
    "# w_scheduler = torch.optim.lr_scheduler.ReduceLROnPlateau(w_optimizer, mode='min', factor=0.1, patience=5, min_lr=1e-6)\n",
    "crit = nn.CrossEntropyLoss()\n",
    "best_acc = 0.\n",
    "for epoch in range(num_epochs):\n",
    "    # 训练\n",
    "    train_loss, train_acc = training(ensemble_model, train_loader, crit, w_optimizer, device)\n",
    "    # 验证\n",
    "    vali_loss, vali_acc = evaluate(ensemble_model, vali_loader, crit, device)\n",
    "\n",
    "\n",
    "    # w_scheduler.step(vali_loss)\n",
    "    # 打印消息\n",
    "    print('第{}轮，训练集损失：{:.2f}, 训练集准确率：{:.2f}, 验证集损失：{:.2f}, 验证集准确率: {:.2f}'.format(\n",
    "        epoch, train_loss, train_acc, vali_loss, vali_acc))\n",
    "    # 储存信息以便可视化\n",
    "    records.append([train_loss, train_acc, vali_loss, vali_acc,optimizer.param_groups[0]['lr']])\n",
    "    best_val_acc = max(best_val_acc,vali_acc)\n",
    "    if best_val_acc == vali_acc:\n",
    "        best_val_ensemble_model = ensemble_model\n",
    "\n",
    "_, test_acc = evaluate(best_val_ensemble_model, test_loader, crit, device)\n",
    "print(test_acc)"
   ]
  },
  {
   "cell_type": "code",
   "execution_count": 27,
   "metadata": {},
   "outputs": [
    {
     "name": "stdout",
     "output_type": "stream",
     "text": [
      "finish loading vocabulary\n",
      "finish loading vocabulary\n",
      "finish loading vocabulary\n",
      "dim: 32 模型的测试集正确率： 0.8770685579196218\n",
      "dim: 64 模型的测试集正确率： 0.8806146572104019\n",
      "dim: 96 模型的测试集正确率： 0.8817966903073287\n",
      "dim: 16 模型的测试集正确率： 0.8546099290780141\n",
      "第0轮，训练集损失：0.14, 训练集准确率：0.99, 验证集损失：0.08, 验证集准确率: 0.99\n",
      "第1轮，训练集损失：0.07, 训练集准确率：0.99, 验证集损失：0.05, 验证集准确率: 0.99\n",
      "第2轮，训练集损失：0.06, 训练集准确率：0.99, 验证集损失：0.04, 验证集准确率: 0.99\n",
      "第3轮，训练集损失：0.05, 训练集准确率：0.99, 验证集损失：0.04, 验证集准确率: 0.99\n",
      "第4轮，训练集损失：0.05, 训练集准确率：0.99, 验证集损失：0.04, 验证集准确率: 0.99\n",
      "第5轮，训练集损失：0.04, 训练集准确率：0.99, 验证集损失：0.04, 验证集准确率: 0.99\n",
      "第6轮，训练集损失：0.04, 训练集准确率：0.99, 验证集损失：0.03, 验证集准确率: 0.99\n",
      "第7轮，训练集损失：0.04, 训练集准确率：0.99, 验证集损失：0.03, 验证集准确率: 0.99\n",
      "第8轮，训练集损失：0.04, 训练集准确率：0.99, 验证集损失：0.03, 验证集准确率: 0.99\n",
      "第9轮，训练集损失：0.04, 训练集准确率：0.99, 验证集损失：0.03, 验证集准确率: 0.99\n",
      "第10轮，训练集损失：0.04, 训练集准确率：0.99, 验证集损失：0.03, 验证集准确率: 0.99\n",
      "第11轮，训练集损失：0.04, 训练集准确率：0.99, 验证集损失：0.03, 验证集准确率: 0.99\n",
      "第12轮，训练集损失：0.04, 训练集准确率：0.99, 验证集损失：0.03, 验证集准确率: 0.99\n",
      "第13轮，训练集损失：0.03, 训练集准确率：0.99, 验证集损失：0.03, 验证集准确率: 0.99\n",
      "第14轮，训练集损失：0.03, 训练集准确率：0.99, 验证集损失：0.03, 验证集准确率: 0.99\n",
      "第15轮，训练集损失：0.03, 训练集准确率：0.99, 验证集损失：0.03, 验证集准确率: 0.99\n",
      "第16轮，训练集损失：0.03, 训练集准确率：0.99, 验证集损失：0.03, 验证集准确率: 0.99\n",
      "第17轮，训练集损失：0.03, 训练集准确率：0.99, 验证集损失：0.03, 验证集准确率: 0.99\n",
      "第18轮，训练集损失：0.03, 训练集准确率：0.99, 验证集损失：0.03, 验证集准确率: 0.99\n",
      "第19轮，训练集损失：0.03, 训练集准确率：0.99, 验证集损失：0.03, 验证集准确率: 0.99\n",
      "第20轮，训练集损失：0.03, 训练集准确率：0.99, 验证集损失：0.03, 验证集准确率: 0.99\n",
      "第21轮，训练集损失：0.03, 训练集准确率：0.99, 验证集损失：0.03, 验证集准确率: 0.99\n",
      "第22轮，训练集损失：0.03, 训练集准确率：0.99, 验证集损失：0.02, 验证集准确率: 0.99\n",
      "第23轮，训练集损失：0.03, 训练集准确率：0.99, 验证集损失：0.02, 验证集准确率: 0.99\n",
      "第24轮，训练集损失：0.03, 训练集准确率：0.99, 验证集损失：0.02, 验证集准确率: 0.99\n",
      "第25轮，训练集损失：0.03, 训练集准确率：0.99, 验证集损失：0.02, 验证集准确率: 0.99\n",
      "第26轮，训练集损失：0.03, 训练集准确率：0.99, 验证集损失：0.02, 验证集准确率: 0.99\n",
      "第27轮，训练集损失：0.03, 训练集准确率：0.99, 验证集损失：0.02, 验证集准确率: 0.99\n",
      "第28轮，训练集损失：0.03, 训练集准确率：0.99, 验证集损失：0.02, 验证集准确率: 0.99\n",
      "第29轮，训练集损失：0.03, 训练集准确率：0.99, 验证集损失：0.02, 验证集准确率: 0.99\n",
      "0.8829787234042553\n"
     ]
    }
   ],
   "source": [
    "# 训练集、验证集一起训练\n",
    "# 参数\n",
    "num_epochs = 30\n",
    "learning_rate = 0.005\n",
    "batch_size = 128\n",
    "vocab_size = len(vocab)+1 # +1是因为<pad> token\n",
    "\n",
    "data['max_len'] = 100\n",
    "\n",
    "pairs = [(32,0.),(64,0.),(96,0.6),(16,0)]\n",
    "\n",
    "# 运行的设备\n",
    "if torch.cuda.is_available():\n",
    "    device = torch.device('cuda')\n",
    "else:\n",
    "    device = torch.device('cpu')\n",
    "\n",
    "# 数据加载器\n",
    "train_loader, vali_loader, test_loader = get_loader(data, split, batch_size=batch_size, class_func=MyDataset,load_tag=True)\n",
    "model_lst = []\n",
    "# 模型实例化\n",
    "for embs_size,dropout in pairs:\n",
    "    model = Pretrainedembs_MLP(embs_size,vocab_size,pad_index = train_loader.dataset.get_pad_index(),dropout=dropout,use_distance_weight=False)\n",
    "    crit = torch.nn.NLLLoss()\n",
    "    # 优化方法\n",
    "    optimizer = torch.optim.Adam(model.parameters(), lr=learning_rate)\n",
    "\n",
    "    records = []\n",
    "    for epoch in range(num_epochs):\n",
    "        # 训练\n",
    "        train_loss, train_acc = training(model, train_loader, crit, optimizer, device)\n",
    "        # 验证\n",
    "        vali_loss, vali_acc = training(model, vali_loader, crit, optimizer,device)\n",
    "    # 测试\n",
    "    _, test_acc = evaluate(model, test_loader, crit, device)\n",
    "    print(f'dim: {embs_size} 模型的测试集正确率：', test_acc)\n",
    "    model_lst.append(model)\n",
    "ensemble_model = Model_Ensemble(model_lst)\n",
    "w_optimizer = torch.optim.Adam(ensemble_model.linear_weight.parameters(),lr=learning_rate)\n",
    "crit = nn.CrossEntropyLoss()\n",
    "for epoch in range(num_epochs):\n",
    "    # 训练\n",
    "    train_loss, train_acc = training(ensemble_model, train_loader, crit, w_optimizer, device)\n",
    "    # 验证\n",
    "    vali_loss, vali_acc = training(ensemble_model, vali_loader, crit, w_optimizer,device)\n",
    "\n",
    "    # 打印消息\n",
    "    print('第{}轮，训练集损失：{:.2f}, 训练集准确率：{:.2f}, 验证集损失：{:.2f}, 验证集准确率: {:.2f}'.format(\n",
    "        epoch, train_loss, train_acc, vali_loss, vali_acc))\n",
    "    # 储存信息以便可视化\n",
    "    records.append([train_loss, train_acc, vali_loss, vali_acc,optimizer.param_groups[0]['lr']])\n",
    "\n",
    "_, test_acc = evaluate(ensemble_model, test_loader, crit, device)\n",
    "print(test_acc)"
   ]
  },
  {
   "cell_type": "code",
   "execution_count": 28,
   "metadata": {},
   "outputs": [
    {
     "name": "stdout",
     "output_type": "stream",
     "text": [
      "finish loading vocabulary\n",
      "finish loading vocabulary\n",
      "finish loading vocabulary\n",
      "0.0 测试集正确率： 0.8286052009456265\n",
      "0.1 测试集正确率： 0.8262411347517731\n",
      "0.2 测试集正确率： 0.7836879432624113\n",
      "0.3 测试集正确率： 0.8226950354609929\n",
      "0.4 测试集正确率： 0.8215130023640662\n",
      "0.5 测试集正确率： 0.7860520094562647\n",
      "0.6 测试集正确率： 0.8286052009456265\n",
      "0.7 测试集正确率： 0.8191489361702128\n",
      "0.8 测试集正确率： 0.8085106382978723\n",
      "0.9 测试集正确率： 0.8002364066193853\n"
     ]
    }
   ],
   "source": [
    "# 参数\n",
    "num_epochs = 30\n",
    "learning_rate = 0.005\n",
    "batch_size = 128\n",
    "vocab_size = len(vocab)+1 # +1是因为<pad> token\n",
    "embs_size = 16\n",
    "\n",
    "data['max_len'] = 100\n",
    "\n",
    "dropout_list = [0.,.1,.2,.3,.4,.5,.6,.7,.8,.9]\n",
    "# pairs = [(16,0.5),(32,0.4),(64,0.5),(96,0.8)]\n",
    "\n",
    "# 运行的设备\n",
    "if torch.cuda.is_available():\n",
    "    device = torch.device('cuda')\n",
    "else:\n",
    "    device = torch.device('cpu')\n",
    "\n",
    "# 数据加载器\n",
    "train_loader, vali_loader, test_loader = get_loader(data, split, batch_size=batch_size, class_func=MyDataset,load_tag=True)\n",
    "# 模型实例化\n",
    "for i,dropout in enumerate(dropout_list):\n",
    "    model = Pretrainedembs_MLP(embs_size,vocab_size,pad_index = train_loader.dataset.get_pad_index(),dropout=dropout,use_distance_weight=True)\n",
    "    # print(model.word_embs.weight.data[:2,:])\n",
    "    # 打印模型\n",
    "    # print(model)\n",
    "    # 损失函数 -- 交叉熵\n",
    "    crit = torch.nn.NLLLoss()\n",
    "    # 优化方法\n",
    "    optimizer = torch.optim.Adam(model.parameters(), lr=learning_rate)\n",
    "    # scheduler = torch.optim.lr_scheduler.ReduceLROnPlateau(optimizer, mode='min', factor=0.1, patience=5, min_lr=1e-6)\n",
    "\n",
    "    records = []\n",
    "    best_val_acc = 0.\n",
    "    for epoch in range(num_epochs):\n",
    "        # 训练\n",
    "        train_loss, train_acc = training(model, train_loader, crit, optimizer, device)\n",
    "        # 验证\n",
    "        vali_loss, vali_acc = evaluate(model, vali_loader, crit, device)\n",
    "\n",
    "        # scheduler.step(vali_loss)\n",
    "        # 打印消息\n",
    "        # print('第{}轮，训练集损失：{:.2f}, 训练集准确率：{:.2f}, 验证集损失：{:.2f}, 验证集准确率: {:.2f}'.format(\n",
    "        #     epoch, train_loss, train_acc, vali_loss, vali_acc))\n",
    "        # 储存信息以便可视化\n",
    "        records.append([train_loss, train_acc, vali_loss, vali_acc,optimizer.param_groups[0]['lr']])\n",
    "        best_val_acc = max(best_val_acc,vali_acc)\n",
    "        if best_val_acc == vali_acc:\n",
    "                best_val_model = model\n",
    "    # 测试\n",
    "    _, test_acc = evaluate(best_val_model, test_loader, crit, device)\n",
    "    print(dropout,'测试集正确率：', test_acc)"
   ]
  },
  {
   "cell_type": "code",
   "execution_count": 29,
   "metadata": {},
   "outputs": [
    {
     "name": "stdout",
     "output_type": "stream",
     "text": [
      "finish loading vocabulary\n",
      "finish loading vocabulary\n",
      "finish loading vocabulary\n",
      "dim: 32 模型的测试集正确率： 0.8557919621749409\n",
      "dim: 64 模型的测试集正确率： 0.8617021276595744\n",
      "dim: 96 模型的测试集正确率： 0.8735224586288416\n",
      "dim: 16 模型的测试集正确率： 0.8250591016548463\n",
      "第0轮，训练集损失：0.36, 训练集准确率：0.93, 验证集损失：0.35, 验证集准确率: 0.86\n",
      "第1轮，训练集损失：0.17, 训练集准确率：0.97, 验证集损失：0.31, 验证集准确率: 0.87\n",
      "第2轮，训练集损失：0.13, 训练集准确率：0.97, 验证集损失：0.31, 验证集准确率: 0.87\n",
      "第3轮，训练集损失：0.11, 训练集准确率：0.98, 验证集损失：0.31, 验证集准确率: 0.87\n",
      "第4轮，训练集损失：0.10, 训练集准确率：0.98, 验证集损失：0.31, 验证集准确率: 0.87\n",
      "第5轮，训练集损失：0.09, 训练集准确率：0.98, 验证集损失：0.31, 验证集准确率: 0.87\n",
      "第6轮，训练集损失：0.08, 训练集准确率：0.98, 验证集损失：0.31, 验证集准确率: 0.87\n",
      "第7轮，训练集损失：0.08, 训练集准确率：0.98, 验证集损失：0.32, 验证集准确率: 0.87\n",
      "第8轮，训练集损失：0.08, 训练集准确率：0.98, 验证集损失：0.32, 验证集准确率: 0.87\n",
      "第9轮，训练集损失：0.07, 训练集准确率：0.98, 验证集损失：0.33, 验证集准确率: 0.87\n",
      "第10轮，训练集损失：0.07, 训练集准确率：0.98, 验证集损失：0.33, 验证集准确率: 0.87\n",
      "第11轮，训练集损失：0.07, 训练集准确率：0.98, 验证集损失：0.33, 验证集准确率: 0.87\n",
      "第12轮，训练集损失：0.07, 训练集准确率：0.98, 验证集损失：0.33, 验证集准确率: 0.87\n",
      "第13轮，训练集损失：0.06, 训练集准确率：0.98, 验证集损失：0.34, 验证集准确率: 0.87\n",
      "第14轮，训练集损失：0.06, 训练集准确率：0.98, 验证集损失：0.34, 验证集准确率: 0.87\n",
      "第15轮，训练集损失：0.06, 训练集准确率：0.98, 验证集损失：0.34, 验证集准确率: 0.87\n",
      "第16轮，训练集损失：0.06, 训练集准确率：0.98, 验证集损失：0.35, 验证集准确率: 0.87\n",
      "第17轮，训练集损失：0.06, 训练集准确率：0.98, 验证集损失：0.35, 验证集准确率: 0.87\n",
      "第18轮，训练集损失：0.06, 训练集准确率：0.98, 验证集损失：0.35, 验证集准确率: 0.87\n",
      "第19轮，训练集损失：0.06, 训练集准确率：0.98, 验证集损失：0.36, 验证集准确率: 0.87\n",
      "第20轮，训练集损失：0.05, 训练集准确率：0.98, 验证集损失：0.36, 验证集准确率: 0.87\n",
      "第21轮，训练集损失：0.05, 训练集准确率：0.98, 验证集损失：0.36, 验证集准确率: 0.87\n",
      "第22轮，训练集损失：0.05, 训练集准确率：0.98, 验证集损失：0.36, 验证集准确率: 0.87\n",
      "第23轮，训练集损失：0.05, 训练集准确率：0.98, 验证集损失：0.37, 验证集准确率: 0.87\n",
      "第24轮，训练集损失：0.05, 训练集准确率：0.98, 验证集损失：0.37, 验证集准确率: 0.87\n",
      "第25轮，训练集损失：0.05, 训练集准确率：0.98, 验证集损失：0.37, 验证集准确率: 0.87\n",
      "第26轮，训练集损失：0.05, 训练集准确率：0.98, 验证集损失：0.37, 验证集准确率: 0.87\n",
      "第27轮，训练集损失：0.05, 训练集准确率：0.98, 验证集损失：0.37, 验证集准确率: 0.87\n",
      "第28轮，训练集损失：0.05, 训练集准确率：0.98, 验证集损失：0.38, 验证集准确率: 0.87\n",
      "第29轮，训练集损失：0.05, 训练集准确率：0.98, 验证集损失：0.38, 验证集准确率: 0.87\n",
      "0.8664302600472813\n"
     ]
    }
   ],
   "source": [
    "# 参数\n",
    "num_epochs = 30\n",
    "learning_rate = 0.005\n",
    "batch_size = 128\n",
    "vocab_size = len(vocab)+1 # +1是因为<pad> token\n",
    "\n",
    "data['max_len'] = 100\n",
    "\n",
    "pairs = [(32,0.),(64,0.3),(96,0.2),(16,0)]\n",
    "\n",
    "# 运行的设备\n",
    "if torch.cuda.is_available():\n",
    "    device = torch.device('cuda')\n",
    "else:\n",
    "    device = torch.device('cpu')\n",
    "\n",
    "# 数据加载器\n",
    "train_loader, vali_loader, test_loader = get_loader(data, split, batch_size=batch_size, class_func=MyDataset,load_tag=True)\n",
    "model_lst = []\n",
    "# 模型实例化\n",
    "for embs_size,dropout in pairs:\n",
    "    model = Pretrainedembs_MLP(embs_size,vocab_size,pad_index = train_loader.dataset.get_pad_index(),dropout=dropout,use_distance_weight=True)\n",
    "    # print(model.word_embs.weight.data[:2,:])\n",
    "    # 打印模型\n",
    "    # print(model)\n",
    "    # 损失函数 -- 交叉熵\n",
    "    crit = torch.nn.NLLLoss()\n",
    "    # 优化方法\n",
    "    optimizer = torch.optim.Adam(model.parameters(), lr=learning_rate)\n",
    "    # scheduler = torch.optim.lr_scheduler.ReduceLROnPlateau(optimizer, mode='min', factor=0.1, patience=5, min_lr=1e-6)\n",
    "\n",
    "    records = []\n",
    "    best_val_acc = 0.\n",
    "    for epoch in range(num_epochs):\n",
    "        # 训练\n",
    "        train_loss, train_acc = training(model, train_loader, crit, optimizer, device)\n",
    "        # 验证\n",
    "        vali_loss, vali_acc = evaluate(model, vali_loader, crit, device)\n",
    "\n",
    "        # scheduler.step(vali_loss)\n",
    "\n",
    "        # 储存信息以便可视化\n",
    "        records.append([train_loss, train_acc, vali_loss, vali_acc,optimizer.param_groups[0]['lr']])\n",
    "        best_val_acc = max(best_val_acc,vali_acc)\n",
    "        if best_val_acc == vali_acc:\n",
    "                best_val_model = model\n",
    "    # 测试\n",
    "    _, test_acc = evaluate(best_val_model, test_loader, crit, device)\n",
    "    print(f'dim: {embs_size} 模型的测试集正确率：', test_acc)\n",
    "    model_lst.append(best_val_model)\n",
    "ensemble_model = Model_Ensemble(model_lst)\n",
    "w_optimizer = torch.optim.Adam(ensemble_model.linear_weight.parameters(),lr=learning_rate)\n",
    "# w_scheduler = torch.optim.lr_scheduler.ReduceLROnPlateau(w_optimizer, mode='min', factor=0.1, patience=5, min_lr=1e-6)\n",
    "crit = nn.CrossEntropyLoss()\n",
    "best_acc = 0.\n",
    "for epoch in range(num_epochs):\n",
    "    # 训练\n",
    "    train_loss, train_acc = training(ensemble_model, train_loader, crit, w_optimizer, device)\n",
    "    # 验证\n",
    "    vali_loss, vali_acc = evaluate(ensemble_model, vali_loader, crit, device)\n",
    "\n",
    "\n",
    "    # w_scheduler.step(vali_loss)\n",
    "    # 打印消息\n",
    "    print('第{}轮，训练集损失：{:.2f}, 训练集准确率：{:.2f}, 验证集损失：{:.2f}, 验证集准确率: {:.2f}'.format(\n",
    "        epoch, train_loss, train_acc, vali_loss, vali_acc))\n",
    "    # 储存信息以便可视化\n",
    "    records.append([train_loss, train_acc, vali_loss, vali_acc,optimizer.param_groups[0]['lr']])\n",
    "    best_val_acc = max(best_val_acc,vali_acc)\n",
    "    if best_val_acc == vali_acc:\n",
    "        best_val_ensemble_model = ensemble_model\n",
    "\n",
    "_, test_acc = evaluate(best_val_ensemble_model, test_loader, crit, device)\n",
    "print(test_acc)"
   ]
  },
  {
   "cell_type": "code",
   "execution_count": 30,
   "metadata": {},
   "outputs": [
    {
     "name": "stdout",
     "output_type": "stream",
     "text": [
      "finish loading vocabulary\n",
      "finish loading vocabulary\n",
      "finish loading vocabulary\n",
      "dim: 32 模型的测试集正确率： 0.8829787234042553\n",
      "dim: 64 模型的测试集正确率： 0.8794326241134752\n",
      "dim: 96 模型的测试集正确率： 0.8806146572104019\n",
      "dim: 16 模型的测试集正确率： 0.8380614657210402\n",
      "第0轮，训练集损失：0.72, 训练集准确率：0.54, 验证集损失：0.27, 验证集准确率: 0.99\n",
      "第1轮，训练集损失：0.18, 训练集准确率：0.99, 验证集损失：0.13, 验证集准确率: 0.99\n",
      "第2轮，训练集损失：0.12, 训练集准确率：0.99, 验证集损失：0.10, 验证集准确率: 0.99\n",
      "第3轮，训练集损失：0.10, 训练集准确率：0.99, 验证集损失：0.09, 验证集准确率: 0.99\n",
      "第4轮，训练集损失：0.09, 训练集准确率：0.99, 验证集损失：0.08, 验证集准确率: 0.99\n",
      "第5轮，训练集损失：0.08, 训练集准确率：0.99, 验证集损失：0.07, 验证集准确率: 0.99\n",
      "第6轮，训练集损失：0.08, 训练集准确率：0.99, 验证集损失：0.07, 验证集准确率: 0.99\n",
      "第7轮，训练集损失：0.07, 训练集准确率：0.99, 验证集损失：0.06, 验证集准确率: 0.99\n",
      "第8轮，训练集损失：0.07, 训练集准确率：0.99, 验证集损失：0.06, 验证集准确率: 0.99\n",
      "第9轮，训练集损失：0.06, 训练集准确率：0.99, 验证集损失：0.06, 验证集准确率: 0.99\n",
      "第10轮，训练集损失：0.06, 训练集准确率：0.99, 验证集损失：0.05, 验证集准确率: 0.99\n",
      "第11轮，训练集损失：0.06, 训练集准确率：0.99, 验证集损失：0.05, 验证集准确率: 0.99\n",
      "第12轮，训练集损失：0.06, 训练集准确率：0.99, 验证集损失：0.05, 验证集准确率: 0.99\n",
      "第13轮，训练集损失：0.06, 训练集准确率：0.99, 验证集损失：0.05, 验证集准确率: 0.99\n",
      "第14轮，训练集损失：0.05, 训练集准确率：0.99, 验证集损失：0.05, 验证集准确率: 0.99\n",
      "第15轮，训练集损失：0.05, 训练集准确率：0.99, 验证集损失：0.05, 验证集准确率: 0.99\n",
      "第16轮，训练集损失：0.05, 训练集准确率：0.99, 验证集损失：0.05, 验证集准确率: 0.99\n",
      "第17轮，训练集损失：0.05, 训练集准确率：0.99, 验证集损失：0.04, 验证集准确率: 0.99\n",
      "第18轮，训练集损失：0.05, 训练集准确率：0.99, 验证集损失：0.04, 验证集准确率: 0.99\n",
      "第19轮，训练集损失：0.05, 训练集准确率：0.99, 验证集损失：0.04, 验证集准确率: 0.99\n",
      "第20轮，训练集损失：0.05, 训练集准确率：0.99, 验证集损失：0.04, 验证集准确率: 0.99\n",
      "第21轮，训练集损失：0.05, 训练集准确率：0.99, 验证集损失：0.04, 验证集准确率: 0.99\n",
      "第22轮，训练集损失：0.05, 训练集准确率：0.99, 验证集损失：0.04, 验证集准确率: 0.99\n",
      "第23轮，训练集损失：0.05, 训练集准确率：0.99, 验证集损失：0.04, 验证集准确率: 0.99\n",
      "第24轮，训练集损失：0.05, 训练集准确率：0.99, 验证集损失：0.04, 验证集准确率: 0.99\n",
      "第25轮，训练集损失：0.05, 训练集准确率：0.99, 验证集损失：0.04, 验证集准确率: 0.99\n",
      "第26轮，训练集损失：0.05, 训练集准确率：0.99, 验证集损失：0.04, 验证集准确率: 0.99\n",
      "第27轮，训练集损失：0.04, 训练集准确率：0.99, 验证集损失：0.04, 验证集准确率: 0.99\n",
      "第28轮，训练集损失：0.04, 训练集准确率：0.99, 验证集损失：0.04, 验证集准确率: 0.99\n",
      "第29轮，训练集损失：0.04, 训练集准确率：0.99, 验证集损失：0.04, 验证集准确率: 0.99\n",
      "0.8770685579196218\n"
     ]
    }
   ],
   "source": [
    "# 训练集、验证集一起训练\n",
    "# 参数\n",
    "num_epochs = 30\n",
    "learning_rate = 0.005\n",
    "batch_size = 128\n",
    "vocab_size = len(vocab)+1 # +1是因为<pad> token\n",
    "\n",
    "data['max_len'] = 100\n",
    "\n",
    "pairs = [(32,0.),(64,0.3),(96,0.6),(16,0)]\n",
    "\n",
    "# 运行的设备\n",
    "if torch.cuda.is_available():\n",
    "    device = torch.device('cuda')\n",
    "else:\n",
    "    device = torch.device('cpu')\n",
    "\n",
    "# 数据加载器\n",
    "train_loader, vali_loader, test_loader = get_loader(data, split, batch_size=batch_size, class_func=MyDataset,load_tag=True)\n",
    "model_lst = []\n",
    "# 模型实例化\n",
    "for embs_size,dropout in pairs:\n",
    "    model = Pretrainedembs_MLP(embs_size,vocab_size,pad_index = train_loader.dataset.get_pad_index(),dropout=dropout,use_distance_weight=True)\n",
    "    crit = torch.nn.NLLLoss()\n",
    "    # 优化方法\n",
    "    optimizer = torch.optim.Adam(model.parameters(), lr=learning_rate)\n",
    "    # scheduler = torch.optim.lr_scheduler.ReduceLROnPlateau(optimizer, mode='min', factor=0.1, patience=5, min_lr=1e-6)\n",
    "\n",
    "    records = []\n",
    "    for epoch in range(num_epochs):\n",
    "        # 训练\n",
    "        train_loss, train_acc = training(model, train_loader, crit, optimizer, device)\n",
    "        # 验证\n",
    "        vali_loss, vali_acc = training(model, vali_loader, crit, optimizer,device)\n",
    "    # 测试\n",
    "    _, test_acc = evaluate(model, test_loader, crit, device)\n",
    "    print(f'dim: {embs_size} 模型的测试集正确率：', test_acc)\n",
    "    model_lst.append(model)\n",
    "ensemble_model = Model_Ensemble(model_lst)\n",
    "w_optimizer = torch.optim.Adam(ensemble_model.linear_weight.parameters(),lr=learning_rate)\n",
    "crit = nn.CrossEntropyLoss()\n",
    "for epoch in range(num_epochs):\n",
    "    # 训练\n",
    "    train_loss, train_acc = training(ensemble_model, train_loader, crit, w_optimizer, device)\n",
    "    # 验证\n",
    "    vali_loss, vali_acc = training(ensemble_model, vali_loader, crit, w_optimizer,device)\n",
    "\n",
    "    # 打印消息\n",
    "    print('第{}轮，训练集损失：{:.2f}, 训练集准确率：{:.2f}, 验证集损失：{:.2f}, 验证集准确率: {:.2f}'.format(\n",
    "        epoch, train_loss, train_acc, vali_loss, vali_acc))\n",
    "    # 储存信息以便可视化\n",
    "    records.append([train_loss, train_acc, vali_loss, vali_acc,optimizer.param_groups[0]['lr']])\n",
    "\n",
    "_, test_acc = evaluate(ensemble_model, test_loader, crit, device)\n",
    "print(test_acc)"
   ]
  }
 ],
 "metadata": {
  "datalore": {
   "base_environment": "default",
   "computation_mode": "JUPYTER",
   "package_manager": "pip",
   "packages": [],
   "version": 1
  },
  "kernelspec": {
   "display_name": "Python 3.8.13 ('qbw_base')",
   "language": "python",
   "name": "python3"
  },
  "language_info": {
   "codemirror_mode": {
    "name": "ipython",
    "version": 3
   },
   "file_extension": ".py",
   "mimetype": "text/x-python",
   "name": "python",
   "nbconvert_exporter": "python",
   "pygments_lexer": "ipython3",
   "version": "3.8.13"
  },
  "vscode": {
   "interpreter": {
    "hash": "931916ec1e9018a72ab9e17be70c974d037672808d5f8fd77a6dc58db3f6bcd0"
   }
  }
 },
 "nbformat": 4,
 "nbformat_minor": 4
}
